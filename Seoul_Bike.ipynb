{
  "nbformat": 4,
  "nbformat_minor": 0,
  "metadata": {
    "colab": {
      "provenance": [],
      "collapsed_sections": [
        "HhfV-JJviCcP",
        "Y3lxredqlCYt",
        "3RnN4peoiCZX",
        "x71ZqKXriCWQ",
        "7hBIi_osiCS2",
        "JlHwYmJAmNHm",
        "35m5QtbWiB9F",
        "PoPl-ycgm1ru",
        "H0kj-8xxnORC",
        "PBTbrJXOngz2",
        "u3PMJOP6ngxN",
        "MSa1f5Uengrz",
        "GF8Ens_Soomf",
        "0wOQAZs5pc--",
        "K5QZ13OEpz2H",
        "lQ7QKXXCp7Bj",
        "448CDAPjqfQr",
        "KSlN3yHqYklG",
        "t6dVpIINYklI",
        "ijmpgYnKYklI",
        "-JiQyfWJYklI",
        "EM7whBJCYoAo",
        "fge-S5ZAYoAp",
        "85gYPyotYoAp",
        "RoGjAbkUYoAp",
        "4Of9eVA-YrdM",
        "iky9q4vBYrdO",
        "F6T5p64dYrdO",
        "y-Ehk30pYrdP",
        "bamQiAODYuh1",
        "QHF8YVU7Yuh3",
        "GwzvFGzlYuh3",
        "qYpmQ266Yuh3",
        "OH-pJp9IphqM",
        "bbFf2-_FphqN",
        "_ouA3fa0phqN",
        "Seke61FWphqN",
        "PIIx-8_IphqN",
        "t27r6nlMphqO",
        "r2jJGEOYphqO",
        "b0JNsNcRphqO",
        "BZR9WyysphqO",
        "jj7wYXLtphqO",
        "eZrbJ2SmphqO",
        "rFu4xreNphqO",
        "YJ55k-q6phqO",
        "gCFgpxoyphqP",
        "OVtJsKN_phqQ",
        "lssrdh5qphqQ",
        "U2RJ9gkRphqQ",
        "1M8mcRywphqQ",
        "tgIPom80phqQ",
        "JMzcOPDDphqR",
        "x-EpHcCOp1ci",
        "X_VqEhTip1ck",
        "8zGJKyg5p1ck",
        "PVzmfK_Ep1ck",
        "n3dbpmDWp1ck",
        "ylSl6qgtp1ck",
        "ZWILFDl5p1ck",
        "M7G43BXep1ck",
        "Ag9LCva-p1cl",
        "E6MkPsBcp1cl",
        "2cELzS2fp1cl",
        "3MPXvC8up1cl",
        "NC_X3p0fY2L0",
        "UV0SzAkaZNRQ",
        "YPEH6qLeZNRQ",
        "q29F0dvdveiT",
        "EXh0U9oCveiU",
        "22aHeOlLveiV",
        "g-ATYxFrGrvw",
        "Yfr_Vlr8HBkt",
        "8yEUt7NnHlrM",
        "tEA2Xm5dHt1r",
        "I79__PHVH19G",
        "Ou-I18pAyIpj",
        "fF3858GYyt-u",
        "4_0_7-oCpUZd",
        "hwyV_J3ipUZe",
        "3yB-zSqbpUZe",
        "dEUvejAfpUZe",
        "Fd15vwWVpUZf",
        "bn_IUdTipZyH",
        "49K5P_iCpZyH",
        "Nff-vKELpZyI",
        "kLW572S8pZyI",
        "dWbDXHzopZyI",
        "yLjJCtPM0KBk",
        "xiyOF9F70UgQ",
        "7wuGOrhz0itI",
        "id1riN9m0vUs",
        "578E2V7j08f6",
        "89xtkJwZ18nB",
        "67NQN5KX2AMe",
        "Iwf50b-R2tYG",
        "GMQiZwjn3iu7",
        "WVIkgGqN3qsr",
        "XkPnILGE3zoT",
        "Hlsf0x5436Go",
        "mT9DMSJo4nBL",
        "c49ITxTc407N",
        "OeJFEK0N496M",
        "9ExmJH0g5HBk",
        "cJNqERVU536h",
        "k5UmGsbsOxih",
        "T0VqWOYE6DLQ",
        "qBMux9mC6MCf",
        "-oLEiFgy-5Pf",
        "C74aWNz2AliB",
        "2DejudWSA-a0",
        "pEMng2IbBLp7",
        "rAdphbQ9Bhjc",
        "TNVZ9zx19K6k",
        "nqoHp30x9hH9",
        "rMDnDkt2B6du",
        "yiiVWRdJDDil",
        "1UUpS68QDMuG",
        "kexQrXU-DjzY",
        "T5CmagL3EC8N",
        "BhH2vgX9EjGr",
        "qjKvONjwE8ra",
        "P1XJ9OREExlT",
        "VFOzZv6IFROw",
        "TIqpNgepFxVj",
        "VfCC591jGiD4",
        "OB4l2ZhMeS1U",
        "ArJBuiUVfxKd",
        "4qY1EAkEfxKe",
        "PiV4Ypx8fxKe",
        "TfvqoZmBfxKf",
        "dJ2tPlVmpsJ0",
        "JWYfwnehpsJ1",
        "-jK_YjpMpsJ2",
        "HAih1iBOpsJ2",
        "zVGeBEFhpsJ2",
        "bmKjuQ-FpsJ3",
        "Fze-IPXLpx6K",
        "7AN1z2sKpx6M",
        "9PIHJqyupx6M",
        "_-qAgymDpx6N",
        "Z-hykwinpx6N",
        "h_CCil-SKHpo",
        "cBFFvTBNJzUa",
        "HvGl1hHyA_VK",
        "EyNgTHvd2WFk",
        "KH5McJBi2d8v",
        "iW_Lq9qf2h6X",
        "-Kee-DAl2viO",
        "gCX9965dhzqZ",
        "gIfDvo9L0UH2"
      ],
      "include_colab_link": true
    },
    "kernelspec": {
      "name": "python3",
      "display_name": "Python 3"
    },
    "language_info": {
      "name": "python"
    }
  },
  "cells": [
    {
      "cell_type": "markdown",
      "metadata": {
        "id": "view-in-github",
        "colab_type": "text"
      },
      "source": [
        "<a href=\"https://colab.research.google.com/github/MrMRaut/Rental-Bike-Data-Analysis/blob/main/Seoul_Bike.ipynb\" target=\"_parent\"><img src=\"https://colab.research.google.com/assets/colab-badge.svg\" alt=\"Open In Colab\"/></a>"
      ]
    },
    {
      "cell_type": "markdown",
      "source": [
        "# **Project Name**    -  Seoul Bike Data Analysis\n",
        "\n"
      ],
      "metadata": {
        "id": "vncDsAP0Gaoa"
      }
    },
    {
      "cell_type": "markdown",
      "source": [
        "##### **Project Type**    - EDA/Regression\n",
        "##### **Contribution**    - Individual"
      ],
      "metadata": {
        "id": "beRrZCGUAJYm"
      }
    },
    {
      "cell_type": "markdown",
      "source": [
        "# **Project Summary -**"
      ],
      "metadata": {
        "id": "FJNUwmbgGyua"
      }
    },
    {
      "cell_type": "markdown",
      "source": [
        "Currently Rental bikes are introduced in many urban cities for the enhancement of mobility comfort. It is important to make the rental bike available and accessible to the public at the right time as it lessens the waiting time. Eventually, providing the city with a stable supply of rental bikes becomes a major concern. The crucial part is the prediction of bike count required at each hour for the stable supply of rental bikes."
      ],
      "metadata": {
        "id": "F6v_1wHtG2nS"
      }
    },
    {
      "cell_type": "markdown",
      "source": [
        "# **GitHub Link -**"
      ],
      "metadata": {
        "id": "w6K7xa23Elo4"
      }
    },
    {
      "cell_type": "markdown",
      "source": [
        "Provide your GitHub Link here."
      ],
      "metadata": {
        "id": "h1o69JH3Eqqn"
      }
    },
    {
      "cell_type": "markdown",
      "source": [
        "# **Problem Statement**\n"
      ],
      "metadata": {
        "id": "yQaldy8SH6Dl"
      }
    },
    {
      "cell_type": "markdown",
      "source": [
        "**Build a Machine Learning model to increase the efficiency of Bike Rental Business.**\n",
        "---\n",
        "\n"
      ],
      "metadata": {
        "id": "DpeJGUA3kjGy"
      }
    },
    {
      "cell_type": "markdown",
      "source": [
        "# ***Analysis***"
      ],
      "metadata": {
        "id": "O_i_v8NEhb9l"
      }
    },
    {
      "cell_type": "markdown",
      "source": [
        "## ***1. Knowing Data***"
      ],
      "metadata": {
        "id": "HhfV-JJviCcP"
      }
    },
    {
      "cell_type": "markdown",
      "source": [
        "### Import Libraries"
      ],
      "metadata": {
        "id": "Y3lxredqlCYt"
      }
    },
    {
      "cell_type": "code",
      "source": [
        "# Import Libraries\n",
        "\n",
        "import numpy as np\n",
        "import pandas as pd\n",
        "import matplotlib.pyplot as plt\n",
        "import seaborn as sns\n",
        "import warnings\n",
        "warnings.filterwarnings('ignore')"
      ],
      "metadata": {
        "id": "M8Vqi-pPk-HR"
      },
      "execution_count": 1,
      "outputs": []
    },
    {
      "cell_type": "markdown",
      "source": [
        "### Dataset Loading"
      ],
      "metadata": {
        "id": "3RnN4peoiCZX"
      }
    },
    {
      "cell_type": "code",
      "source": [
        "from google.colab import drive\n",
        "drive.mount('/content/drive')"
      ],
      "metadata": {
        "id": "ck0SziCmTjZL",
        "colab": {
          "base_uri": "https://localhost:8080/"
        },
        "outputId": "6295fd9d-59bf-4289-8a37-590d188db666"
      },
      "execution_count": 2,
      "outputs": [
        {
          "output_type": "stream",
          "name": "stdout",
          "text": [
            "Mounted at /content/drive\n"
          ]
        }
      ]
    },
    {
      "cell_type": "code",
      "source": [
        "# Load Dataset\n",
        "\n",
        "df = pd.read_csv(r'/content/drive/MyDrive/Database/SeoulBikeData.csv', encoding='unicode_escape')"
      ],
      "metadata": {
        "id": "4CkvbW_SlZ_R"
      },
      "execution_count": 3,
      "outputs": []
    },
    {
      "cell_type": "markdown",
      "source": [
        "### Dataset First View"
      ],
      "metadata": {
        "id": "x71ZqKXriCWQ"
      }
    },
    {
      "cell_type": "code",
      "source": [
        "# Dataset First Look\n",
        "df"
      ],
      "metadata": {
        "id": "69-Ya0PoT_0g",
        "colab": {
          "base_uri": "https://localhost:8080/",
          "height": 0
        },
        "outputId": "419b7260-e7a0-49b9-e6e6-cd05087698e0"
      },
      "execution_count": 4,
      "outputs": [
        {
          "output_type": "execute_result",
          "data": {
            "text/plain": [
              "            Date  Rented Bike Count  Hour  Temperature(°C)  Humidity(%)  \\\n",
              "0     01/12/2017                254     0             -5.2           37   \n",
              "1     01/12/2017                204     1             -5.5           38   \n",
              "2     01/12/2017                173     2             -6.0           39   \n",
              "3     01/12/2017                107     3             -6.2           40   \n",
              "4     01/12/2017                 78     4             -6.0           36   \n",
              "...          ...                ...   ...              ...          ...   \n",
              "8755  30/11/2018               1003    19              4.2           34   \n",
              "8756  30/11/2018                764    20              3.4           37   \n",
              "8757  30/11/2018                694    21              2.6           39   \n",
              "8758  30/11/2018                712    22              2.1           41   \n",
              "8759  30/11/2018                584    23              1.9           43   \n",
              "\n",
              "      Wind speed (m/s)  Visibility (10m)  Dew point temperature(°C)  \\\n",
              "0                  2.2              2000                      -17.6   \n",
              "1                  0.8              2000                      -17.6   \n",
              "2                  1.0              2000                      -17.7   \n",
              "3                  0.9              2000                      -17.6   \n",
              "4                  2.3              2000                      -18.6   \n",
              "...                ...               ...                        ...   \n",
              "8755               2.6              1894                      -10.3   \n",
              "8756               2.3              2000                       -9.9   \n",
              "8757               0.3              1968                       -9.9   \n",
              "8758               1.0              1859                       -9.8   \n",
              "8759               1.3              1909                       -9.3   \n",
              "\n",
              "      Solar Radiation (MJ/m2)  Rainfall(mm)  Snowfall (cm) Seasons  \\\n",
              "0                         0.0           0.0            0.0  Winter   \n",
              "1                         0.0           0.0            0.0  Winter   \n",
              "2                         0.0           0.0            0.0  Winter   \n",
              "3                         0.0           0.0            0.0  Winter   \n",
              "4                         0.0           0.0            0.0  Winter   \n",
              "...                       ...           ...            ...     ...   \n",
              "8755                      0.0           0.0            0.0  Autumn   \n",
              "8756                      0.0           0.0            0.0  Autumn   \n",
              "8757                      0.0           0.0            0.0  Autumn   \n",
              "8758                      0.0           0.0            0.0  Autumn   \n",
              "8759                      0.0           0.0            0.0  Autumn   \n",
              "\n",
              "         Holiday Functioning Day  \n",
              "0     No Holiday             Yes  \n",
              "1     No Holiday             Yes  \n",
              "2     No Holiday             Yes  \n",
              "3     No Holiday             Yes  \n",
              "4     No Holiday             Yes  \n",
              "...          ...             ...  \n",
              "8755  No Holiday             Yes  \n",
              "8756  No Holiday             Yes  \n",
              "8757  No Holiday             Yes  \n",
              "8758  No Holiday             Yes  \n",
              "8759  No Holiday             Yes  \n",
              "\n",
              "[8760 rows x 14 columns]"
            ],
            "text/html": [
              "\n",
              "  <div id=\"df-ecb4a7df-51f9-406c-97ea-fdd6bacd9f41\" class=\"colab-df-container\">\n",
              "    <div>\n",
              "<style scoped>\n",
              "    .dataframe tbody tr th:only-of-type {\n",
              "        vertical-align: middle;\n",
              "    }\n",
              "\n",
              "    .dataframe tbody tr th {\n",
              "        vertical-align: top;\n",
              "    }\n",
              "\n",
              "    .dataframe thead th {\n",
              "        text-align: right;\n",
              "    }\n",
              "</style>\n",
              "<table border=\"1\" class=\"dataframe\">\n",
              "  <thead>\n",
              "    <tr style=\"text-align: right;\">\n",
              "      <th></th>\n",
              "      <th>Date</th>\n",
              "      <th>Rented Bike Count</th>\n",
              "      <th>Hour</th>\n",
              "      <th>Temperature(°C)</th>\n",
              "      <th>Humidity(%)</th>\n",
              "      <th>Wind speed (m/s)</th>\n",
              "      <th>Visibility (10m)</th>\n",
              "      <th>Dew point temperature(°C)</th>\n",
              "      <th>Solar Radiation (MJ/m2)</th>\n",
              "      <th>Rainfall(mm)</th>\n",
              "      <th>Snowfall (cm)</th>\n",
              "      <th>Seasons</th>\n",
              "      <th>Holiday</th>\n",
              "      <th>Functioning Day</th>\n",
              "    </tr>\n",
              "  </thead>\n",
              "  <tbody>\n",
              "    <tr>\n",
              "      <th>0</th>\n",
              "      <td>01/12/2017</td>\n",
              "      <td>254</td>\n",
              "      <td>0</td>\n",
              "      <td>-5.2</td>\n",
              "      <td>37</td>\n",
              "      <td>2.2</td>\n",
              "      <td>2000</td>\n",
              "      <td>-17.6</td>\n",
              "      <td>0.0</td>\n",
              "      <td>0.0</td>\n",
              "      <td>0.0</td>\n",
              "      <td>Winter</td>\n",
              "      <td>No Holiday</td>\n",
              "      <td>Yes</td>\n",
              "    </tr>\n",
              "    <tr>\n",
              "      <th>1</th>\n",
              "      <td>01/12/2017</td>\n",
              "      <td>204</td>\n",
              "      <td>1</td>\n",
              "      <td>-5.5</td>\n",
              "      <td>38</td>\n",
              "      <td>0.8</td>\n",
              "      <td>2000</td>\n",
              "      <td>-17.6</td>\n",
              "      <td>0.0</td>\n",
              "      <td>0.0</td>\n",
              "      <td>0.0</td>\n",
              "      <td>Winter</td>\n",
              "      <td>No Holiday</td>\n",
              "      <td>Yes</td>\n",
              "    </tr>\n",
              "    <tr>\n",
              "      <th>2</th>\n",
              "      <td>01/12/2017</td>\n",
              "      <td>173</td>\n",
              "      <td>2</td>\n",
              "      <td>-6.0</td>\n",
              "      <td>39</td>\n",
              "      <td>1.0</td>\n",
              "      <td>2000</td>\n",
              "      <td>-17.7</td>\n",
              "      <td>0.0</td>\n",
              "      <td>0.0</td>\n",
              "      <td>0.0</td>\n",
              "      <td>Winter</td>\n",
              "      <td>No Holiday</td>\n",
              "      <td>Yes</td>\n",
              "    </tr>\n",
              "    <tr>\n",
              "      <th>3</th>\n",
              "      <td>01/12/2017</td>\n",
              "      <td>107</td>\n",
              "      <td>3</td>\n",
              "      <td>-6.2</td>\n",
              "      <td>40</td>\n",
              "      <td>0.9</td>\n",
              "      <td>2000</td>\n",
              "      <td>-17.6</td>\n",
              "      <td>0.0</td>\n",
              "      <td>0.0</td>\n",
              "      <td>0.0</td>\n",
              "      <td>Winter</td>\n",
              "      <td>No Holiday</td>\n",
              "      <td>Yes</td>\n",
              "    </tr>\n",
              "    <tr>\n",
              "      <th>4</th>\n",
              "      <td>01/12/2017</td>\n",
              "      <td>78</td>\n",
              "      <td>4</td>\n",
              "      <td>-6.0</td>\n",
              "      <td>36</td>\n",
              "      <td>2.3</td>\n",
              "      <td>2000</td>\n",
              "      <td>-18.6</td>\n",
              "      <td>0.0</td>\n",
              "      <td>0.0</td>\n",
              "      <td>0.0</td>\n",
              "      <td>Winter</td>\n",
              "      <td>No Holiday</td>\n",
              "      <td>Yes</td>\n",
              "    </tr>\n",
              "    <tr>\n",
              "      <th>...</th>\n",
              "      <td>...</td>\n",
              "      <td>...</td>\n",
              "      <td>...</td>\n",
              "      <td>...</td>\n",
              "      <td>...</td>\n",
              "      <td>...</td>\n",
              "      <td>...</td>\n",
              "      <td>...</td>\n",
              "      <td>...</td>\n",
              "      <td>...</td>\n",
              "      <td>...</td>\n",
              "      <td>...</td>\n",
              "      <td>...</td>\n",
              "      <td>...</td>\n",
              "    </tr>\n",
              "    <tr>\n",
              "      <th>8755</th>\n",
              "      <td>30/11/2018</td>\n",
              "      <td>1003</td>\n",
              "      <td>19</td>\n",
              "      <td>4.2</td>\n",
              "      <td>34</td>\n",
              "      <td>2.6</td>\n",
              "      <td>1894</td>\n",
              "      <td>-10.3</td>\n",
              "      <td>0.0</td>\n",
              "      <td>0.0</td>\n",
              "      <td>0.0</td>\n",
              "      <td>Autumn</td>\n",
              "      <td>No Holiday</td>\n",
              "      <td>Yes</td>\n",
              "    </tr>\n",
              "    <tr>\n",
              "      <th>8756</th>\n",
              "      <td>30/11/2018</td>\n",
              "      <td>764</td>\n",
              "      <td>20</td>\n",
              "      <td>3.4</td>\n",
              "      <td>37</td>\n",
              "      <td>2.3</td>\n",
              "      <td>2000</td>\n",
              "      <td>-9.9</td>\n",
              "      <td>0.0</td>\n",
              "      <td>0.0</td>\n",
              "      <td>0.0</td>\n",
              "      <td>Autumn</td>\n",
              "      <td>No Holiday</td>\n",
              "      <td>Yes</td>\n",
              "    </tr>\n",
              "    <tr>\n",
              "      <th>8757</th>\n",
              "      <td>30/11/2018</td>\n",
              "      <td>694</td>\n",
              "      <td>21</td>\n",
              "      <td>2.6</td>\n",
              "      <td>39</td>\n",
              "      <td>0.3</td>\n",
              "      <td>1968</td>\n",
              "      <td>-9.9</td>\n",
              "      <td>0.0</td>\n",
              "      <td>0.0</td>\n",
              "      <td>0.0</td>\n",
              "      <td>Autumn</td>\n",
              "      <td>No Holiday</td>\n",
              "      <td>Yes</td>\n",
              "    </tr>\n",
              "    <tr>\n",
              "      <th>8758</th>\n",
              "      <td>30/11/2018</td>\n",
              "      <td>712</td>\n",
              "      <td>22</td>\n",
              "      <td>2.1</td>\n",
              "      <td>41</td>\n",
              "      <td>1.0</td>\n",
              "      <td>1859</td>\n",
              "      <td>-9.8</td>\n",
              "      <td>0.0</td>\n",
              "      <td>0.0</td>\n",
              "      <td>0.0</td>\n",
              "      <td>Autumn</td>\n",
              "      <td>No Holiday</td>\n",
              "      <td>Yes</td>\n",
              "    </tr>\n",
              "    <tr>\n",
              "      <th>8759</th>\n",
              "      <td>30/11/2018</td>\n",
              "      <td>584</td>\n",
              "      <td>23</td>\n",
              "      <td>1.9</td>\n",
              "      <td>43</td>\n",
              "      <td>1.3</td>\n",
              "      <td>1909</td>\n",
              "      <td>-9.3</td>\n",
              "      <td>0.0</td>\n",
              "      <td>0.0</td>\n",
              "      <td>0.0</td>\n",
              "      <td>Autumn</td>\n",
              "      <td>No Holiday</td>\n",
              "      <td>Yes</td>\n",
              "    </tr>\n",
              "  </tbody>\n",
              "</table>\n",
              "<p>8760 rows × 14 columns</p>\n",
              "</div>\n",
              "    <div class=\"colab-df-buttons\">\n",
              "\n",
              "  <div class=\"colab-df-container\">\n",
              "    <button class=\"colab-df-convert\" onclick=\"convertToInteractive('df-ecb4a7df-51f9-406c-97ea-fdd6bacd9f41')\"\n",
              "            title=\"Convert this dataframe to an interactive table.\"\n",
              "            style=\"display:none;\">\n",
              "\n",
              "  <svg xmlns=\"http://www.w3.org/2000/svg\" height=\"24px\" viewBox=\"0 -960 960 960\">\n",
              "    <path d=\"M120-120v-720h720v720H120Zm60-500h600v-160H180v160Zm220 220h160v-160H400v160Zm0 220h160v-160H400v160ZM180-400h160v-160H180v160Zm440 0h160v-160H620v160ZM180-180h160v-160H180v160Zm440 0h160v-160H620v160Z\"/>\n",
              "  </svg>\n",
              "    </button>\n",
              "\n",
              "  <style>\n",
              "    .colab-df-container {\n",
              "      display:flex;\n",
              "      gap: 12px;\n",
              "    }\n",
              "\n",
              "    .colab-df-convert {\n",
              "      background-color: #E8F0FE;\n",
              "      border: none;\n",
              "      border-radius: 50%;\n",
              "      cursor: pointer;\n",
              "      display: none;\n",
              "      fill: #1967D2;\n",
              "      height: 32px;\n",
              "      padding: 0 0 0 0;\n",
              "      width: 32px;\n",
              "    }\n",
              "\n",
              "    .colab-df-convert:hover {\n",
              "      background-color: #E2EBFA;\n",
              "      box-shadow: 0px 1px 2px rgba(60, 64, 67, 0.3), 0px 1px 3px 1px rgba(60, 64, 67, 0.15);\n",
              "      fill: #174EA6;\n",
              "    }\n",
              "\n",
              "    .colab-df-buttons div {\n",
              "      margin-bottom: 4px;\n",
              "    }\n",
              "\n",
              "    [theme=dark] .colab-df-convert {\n",
              "      background-color: #3B4455;\n",
              "      fill: #D2E3FC;\n",
              "    }\n",
              "\n",
              "    [theme=dark] .colab-df-convert:hover {\n",
              "      background-color: #434B5C;\n",
              "      box-shadow: 0px 1px 3px 1px rgba(0, 0, 0, 0.15);\n",
              "      filter: drop-shadow(0px 1px 2px rgba(0, 0, 0, 0.3));\n",
              "      fill: #FFFFFF;\n",
              "    }\n",
              "  </style>\n",
              "\n",
              "    <script>\n",
              "      const buttonEl =\n",
              "        document.querySelector('#df-ecb4a7df-51f9-406c-97ea-fdd6bacd9f41 button.colab-df-convert');\n",
              "      buttonEl.style.display =\n",
              "        google.colab.kernel.accessAllowed ? 'block' : 'none';\n",
              "\n",
              "      async function convertToInteractive(key) {\n",
              "        const element = document.querySelector('#df-ecb4a7df-51f9-406c-97ea-fdd6bacd9f41');\n",
              "        const dataTable =\n",
              "          await google.colab.kernel.invokeFunction('convertToInteractive',\n",
              "                                                    [key], {});\n",
              "        if (!dataTable) return;\n",
              "\n",
              "        const docLinkHtml = 'Like what you see? Visit the ' +\n",
              "          '<a target=\"_blank\" href=https://colab.research.google.com/notebooks/data_table.ipynb>data table notebook</a>'\n",
              "          + ' to learn more about interactive tables.';\n",
              "        element.innerHTML = '';\n",
              "        dataTable['output_type'] = 'display_data';\n",
              "        await google.colab.output.renderOutput(dataTable, element);\n",
              "        const docLink = document.createElement('div');\n",
              "        docLink.innerHTML = docLinkHtml;\n",
              "        element.appendChild(docLink);\n",
              "      }\n",
              "    </script>\n",
              "  </div>\n",
              "\n",
              "\n",
              "<div id=\"df-2669a429-1f04-4155-af26-d0fa69240169\">\n",
              "  <button class=\"colab-df-quickchart\" onclick=\"quickchart('df-2669a429-1f04-4155-af26-d0fa69240169')\"\n",
              "            title=\"Suggest charts\"\n",
              "            style=\"display:none;\">\n",
              "\n",
              "<svg xmlns=\"http://www.w3.org/2000/svg\" height=\"24px\"viewBox=\"0 0 24 24\"\n",
              "     width=\"24px\">\n",
              "    <g>\n",
              "        <path d=\"M19 3H5c-1.1 0-2 .9-2 2v14c0 1.1.9 2 2 2h14c1.1 0 2-.9 2-2V5c0-1.1-.9-2-2-2zM9 17H7v-7h2v7zm4 0h-2V7h2v10zm4 0h-2v-4h2v4z\"/>\n",
              "    </g>\n",
              "</svg>\n",
              "  </button>\n",
              "\n",
              "<style>\n",
              "  .colab-df-quickchart {\n",
              "      --bg-color: #E8F0FE;\n",
              "      --fill-color: #1967D2;\n",
              "      --hover-bg-color: #E2EBFA;\n",
              "      --hover-fill-color: #174EA6;\n",
              "      --disabled-fill-color: #AAA;\n",
              "      --disabled-bg-color: #DDD;\n",
              "  }\n",
              "\n",
              "  [theme=dark] .colab-df-quickchart {\n",
              "      --bg-color: #3B4455;\n",
              "      --fill-color: #D2E3FC;\n",
              "      --hover-bg-color: #434B5C;\n",
              "      --hover-fill-color: #FFFFFF;\n",
              "      --disabled-bg-color: #3B4455;\n",
              "      --disabled-fill-color: #666;\n",
              "  }\n",
              "\n",
              "  .colab-df-quickchart {\n",
              "    background-color: var(--bg-color);\n",
              "    border: none;\n",
              "    border-radius: 50%;\n",
              "    cursor: pointer;\n",
              "    display: none;\n",
              "    fill: var(--fill-color);\n",
              "    height: 32px;\n",
              "    padding: 0;\n",
              "    width: 32px;\n",
              "  }\n",
              "\n",
              "  .colab-df-quickchart:hover {\n",
              "    background-color: var(--hover-bg-color);\n",
              "    box-shadow: 0 1px 2px rgba(60, 64, 67, 0.3), 0 1px 3px 1px rgba(60, 64, 67, 0.15);\n",
              "    fill: var(--button-hover-fill-color);\n",
              "  }\n",
              "\n",
              "  .colab-df-quickchart-complete:disabled,\n",
              "  .colab-df-quickchart-complete:disabled:hover {\n",
              "    background-color: var(--disabled-bg-color);\n",
              "    fill: var(--disabled-fill-color);\n",
              "    box-shadow: none;\n",
              "  }\n",
              "\n",
              "  .colab-df-spinner {\n",
              "    border: 2px solid var(--fill-color);\n",
              "    border-color: transparent;\n",
              "    border-bottom-color: var(--fill-color);\n",
              "    animation:\n",
              "      spin 1s steps(1) infinite;\n",
              "  }\n",
              "\n",
              "  @keyframes spin {\n",
              "    0% {\n",
              "      border-color: transparent;\n",
              "      border-bottom-color: var(--fill-color);\n",
              "      border-left-color: var(--fill-color);\n",
              "    }\n",
              "    20% {\n",
              "      border-color: transparent;\n",
              "      border-left-color: var(--fill-color);\n",
              "      border-top-color: var(--fill-color);\n",
              "    }\n",
              "    30% {\n",
              "      border-color: transparent;\n",
              "      border-left-color: var(--fill-color);\n",
              "      border-top-color: var(--fill-color);\n",
              "      border-right-color: var(--fill-color);\n",
              "    }\n",
              "    40% {\n",
              "      border-color: transparent;\n",
              "      border-right-color: var(--fill-color);\n",
              "      border-top-color: var(--fill-color);\n",
              "    }\n",
              "    60% {\n",
              "      border-color: transparent;\n",
              "      border-right-color: var(--fill-color);\n",
              "    }\n",
              "    80% {\n",
              "      border-color: transparent;\n",
              "      border-right-color: var(--fill-color);\n",
              "      border-bottom-color: var(--fill-color);\n",
              "    }\n",
              "    90% {\n",
              "      border-color: transparent;\n",
              "      border-bottom-color: var(--fill-color);\n",
              "    }\n",
              "  }\n",
              "</style>\n",
              "\n",
              "  <script>\n",
              "    async function quickchart(key) {\n",
              "      const quickchartButtonEl =\n",
              "        document.querySelector('#' + key + ' button');\n",
              "      quickchartButtonEl.disabled = true;  // To prevent multiple clicks.\n",
              "      quickchartButtonEl.classList.add('colab-df-spinner');\n",
              "      try {\n",
              "        const charts = await google.colab.kernel.invokeFunction(\n",
              "            'suggestCharts', [key], {});\n",
              "      } catch (error) {\n",
              "        console.error('Error during call to suggestCharts:', error);\n",
              "      }\n",
              "      quickchartButtonEl.classList.remove('colab-df-spinner');\n",
              "      quickchartButtonEl.classList.add('colab-df-quickchart-complete');\n",
              "    }\n",
              "    (() => {\n",
              "      let quickchartButtonEl =\n",
              "        document.querySelector('#df-2669a429-1f04-4155-af26-d0fa69240169 button');\n",
              "      quickchartButtonEl.style.display =\n",
              "        google.colab.kernel.accessAllowed ? 'block' : 'none';\n",
              "    })();\n",
              "  </script>\n",
              "</div>\n",
              "\n",
              "  <div id=\"id_fa76d2bc-363e-470a-a8e5-2157e62adc43\">\n",
              "    <style>\n",
              "      .colab-df-generate {\n",
              "        background-color: #E8F0FE;\n",
              "        border: none;\n",
              "        border-radius: 50%;\n",
              "        cursor: pointer;\n",
              "        display: none;\n",
              "        fill: #1967D2;\n",
              "        height: 32px;\n",
              "        padding: 0 0 0 0;\n",
              "        width: 32px;\n",
              "      }\n",
              "\n",
              "      .colab-df-generate:hover {\n",
              "        background-color: #E2EBFA;\n",
              "        box-shadow: 0px 1px 2px rgba(60, 64, 67, 0.3), 0px 1px 3px 1px rgba(60, 64, 67, 0.15);\n",
              "        fill: #174EA6;\n",
              "      }\n",
              "\n",
              "      [theme=dark] .colab-df-generate {\n",
              "        background-color: #3B4455;\n",
              "        fill: #D2E3FC;\n",
              "      }\n",
              "\n",
              "      [theme=dark] .colab-df-generate:hover {\n",
              "        background-color: #434B5C;\n",
              "        box-shadow: 0px 1px 3px 1px rgba(0, 0, 0, 0.15);\n",
              "        filter: drop-shadow(0px 1px 2px rgba(0, 0, 0, 0.3));\n",
              "        fill: #FFFFFF;\n",
              "      }\n",
              "    </style>\n",
              "    <button class=\"colab-df-generate\" onclick=\"generateWithVariable('df')\"\n",
              "            title=\"Generate code using this dataframe.\"\n",
              "            style=\"display:none;\">\n",
              "\n",
              "  <svg xmlns=\"http://www.w3.org/2000/svg\" height=\"24px\"viewBox=\"0 0 24 24\"\n",
              "       width=\"24px\">\n",
              "    <path d=\"M7,19H8.4L18.45,9,17,7.55,7,17.6ZM5,21V16.75L18.45,3.32a2,2,0,0,1,2.83,0l1.4,1.43a1.91,1.91,0,0,1,.58,1.4,1.91,1.91,0,0,1-.58,1.4L9.25,21ZM18.45,9,17,7.55Zm-12,3A5.31,5.31,0,0,0,4.9,8.1,5.31,5.31,0,0,0,1,6.5,5.31,5.31,0,0,0,4.9,4.9,5.31,5.31,0,0,0,6.5,1,5.31,5.31,0,0,0,8.1,4.9,5.31,5.31,0,0,0,12,6.5,5.46,5.46,0,0,0,6.5,12Z\"/>\n",
              "  </svg>\n",
              "    </button>\n",
              "    <script>\n",
              "      (() => {\n",
              "      const buttonEl =\n",
              "        document.querySelector('#id_fa76d2bc-363e-470a-a8e5-2157e62adc43 button.colab-df-generate');\n",
              "      buttonEl.style.display =\n",
              "        google.colab.kernel.accessAllowed ? 'block' : 'none';\n",
              "\n",
              "      buttonEl.onclick = () => {\n",
              "        google.colab.notebook.generateWithVariable('df');\n",
              "      }\n",
              "      })();\n",
              "    </script>\n",
              "  </div>\n",
              "\n",
              "    </div>\n",
              "  </div>\n"
            ]
          },
          "metadata": {},
          "execution_count": 4
        }
      ]
    },
    {
      "cell_type": "markdown",
      "source": [
        "### Dataset Rows & Columns count"
      ],
      "metadata": {
        "id": "7hBIi_osiCS2"
      }
    },
    {
      "cell_type": "code",
      "source": [
        "# Dataset Rows & Columns count\n",
        "print(f'''\n",
        "Number of Rows = {df.shape[0]}\\n\n",
        "Number of Columns = {df.shape[1]}\n",
        "''')"
      ],
      "metadata": {
        "id": "Kllu7SJgmLij",
        "colab": {
          "base_uri": "https://localhost:8080/"
        },
        "outputId": "b2b1e8e8-2680-4240-a66e-a9c87d229d12"
      },
      "execution_count": 5,
      "outputs": [
        {
          "output_type": "stream",
          "name": "stdout",
          "text": [
            "\n",
            "Number of Rows = 8760\n",
            "\n",
            "Number of Columns = 14\n",
            "\n"
          ]
        }
      ]
    },
    {
      "cell_type": "markdown",
      "source": [
        "### Dataset Information"
      ],
      "metadata": {
        "id": "JlHwYmJAmNHm"
      }
    },
    {
      "cell_type": "code",
      "source": [
        "# Dataset Info\n",
        "df.info()"
      ],
      "metadata": {
        "id": "e9hRXRi6meOf",
        "colab": {
          "base_uri": "https://localhost:8080/"
        },
        "outputId": "98c7599f-4de0-4e19-bf0f-c75066a5e26c"
      },
      "execution_count": 6,
      "outputs": [
        {
          "output_type": "stream",
          "name": "stdout",
          "text": [
            "<class 'pandas.core.frame.DataFrame'>\n",
            "RangeIndex: 8760 entries, 0 to 8759\n",
            "Data columns (total 14 columns):\n",
            " #   Column                     Non-Null Count  Dtype  \n",
            "---  ------                     --------------  -----  \n",
            " 0   Date                       8760 non-null   object \n",
            " 1   Rented Bike Count          8760 non-null   int64  \n",
            " 2   Hour                       8760 non-null   int64  \n",
            " 3   Temperature(°C)            8760 non-null   float64\n",
            " 4   Humidity(%)                8760 non-null   int64  \n",
            " 5   Wind speed (m/s)           8760 non-null   float64\n",
            " 6   Visibility (10m)           8760 non-null   int64  \n",
            " 7   Dew point temperature(°C)  8760 non-null   float64\n",
            " 8   Solar Radiation (MJ/m2)    8760 non-null   float64\n",
            " 9   Rainfall(mm)               8760 non-null   float64\n",
            " 10  Snowfall (cm)              8760 non-null   float64\n",
            " 11  Seasons                    8760 non-null   object \n",
            " 12  Holiday                    8760 non-null   object \n",
            " 13  Functioning Day            8760 non-null   object \n",
            "dtypes: float64(6), int64(4), object(4)\n",
            "memory usage: 958.2+ KB\n"
          ]
        }
      ]
    },
    {
      "cell_type": "markdown",
      "source": [
        "#### Duplicate Values"
      ],
      "metadata": {
        "id": "35m5QtbWiB9F"
      }
    },
    {
      "cell_type": "code",
      "source": [
        "# Dataset Duplicate Value Count\n",
        "df[df.duplicated()]"
      ],
      "metadata": {
        "id": "1sLdpKYkmox0",
        "colab": {
          "base_uri": "https://localhost:8080/",
          "height": 0
        },
        "outputId": "004e83e9-8940-4765-ab69-94069d81880f"
      },
      "execution_count": 7,
      "outputs": [
        {
          "output_type": "execute_result",
          "data": {
            "text/plain": [
              "Empty DataFrame\n",
              "Columns: [Date, Rented Bike Count, Hour, Temperature(°C), Humidity(%), Wind speed (m/s), Visibility (10m), Dew point temperature(°C), Solar Radiation (MJ/m2), Rainfall(mm), Snowfall (cm), Seasons, Holiday, Functioning Day]\n",
              "Index: []"
            ],
            "text/html": [
              "\n",
              "  <div id=\"df-2e8d7bb4-5c14-42f1-8449-0f6a89bf217d\" class=\"colab-df-container\">\n",
              "    <div>\n",
              "<style scoped>\n",
              "    .dataframe tbody tr th:only-of-type {\n",
              "        vertical-align: middle;\n",
              "    }\n",
              "\n",
              "    .dataframe tbody tr th {\n",
              "        vertical-align: top;\n",
              "    }\n",
              "\n",
              "    .dataframe thead th {\n",
              "        text-align: right;\n",
              "    }\n",
              "</style>\n",
              "<table border=\"1\" class=\"dataframe\">\n",
              "  <thead>\n",
              "    <tr style=\"text-align: right;\">\n",
              "      <th></th>\n",
              "      <th>Date</th>\n",
              "      <th>Rented Bike Count</th>\n",
              "      <th>Hour</th>\n",
              "      <th>Temperature(°C)</th>\n",
              "      <th>Humidity(%)</th>\n",
              "      <th>Wind speed (m/s)</th>\n",
              "      <th>Visibility (10m)</th>\n",
              "      <th>Dew point temperature(°C)</th>\n",
              "      <th>Solar Radiation (MJ/m2)</th>\n",
              "      <th>Rainfall(mm)</th>\n",
              "      <th>Snowfall (cm)</th>\n",
              "      <th>Seasons</th>\n",
              "      <th>Holiday</th>\n",
              "      <th>Functioning Day</th>\n",
              "    </tr>\n",
              "  </thead>\n",
              "  <tbody>\n",
              "  </tbody>\n",
              "</table>\n",
              "</div>\n",
              "    <div class=\"colab-df-buttons\">\n",
              "\n",
              "  <div class=\"colab-df-container\">\n",
              "    <button class=\"colab-df-convert\" onclick=\"convertToInteractive('df-2e8d7bb4-5c14-42f1-8449-0f6a89bf217d')\"\n",
              "            title=\"Convert this dataframe to an interactive table.\"\n",
              "            style=\"display:none;\">\n",
              "\n",
              "  <svg xmlns=\"http://www.w3.org/2000/svg\" height=\"24px\" viewBox=\"0 -960 960 960\">\n",
              "    <path d=\"M120-120v-720h720v720H120Zm60-500h600v-160H180v160Zm220 220h160v-160H400v160Zm0 220h160v-160H400v160ZM180-400h160v-160H180v160Zm440 0h160v-160H620v160ZM180-180h160v-160H180v160Zm440 0h160v-160H620v160Z\"/>\n",
              "  </svg>\n",
              "    </button>\n",
              "\n",
              "  <style>\n",
              "    .colab-df-container {\n",
              "      display:flex;\n",
              "      gap: 12px;\n",
              "    }\n",
              "\n",
              "    .colab-df-convert {\n",
              "      background-color: #E8F0FE;\n",
              "      border: none;\n",
              "      border-radius: 50%;\n",
              "      cursor: pointer;\n",
              "      display: none;\n",
              "      fill: #1967D2;\n",
              "      height: 32px;\n",
              "      padding: 0 0 0 0;\n",
              "      width: 32px;\n",
              "    }\n",
              "\n",
              "    .colab-df-convert:hover {\n",
              "      background-color: #E2EBFA;\n",
              "      box-shadow: 0px 1px 2px rgba(60, 64, 67, 0.3), 0px 1px 3px 1px rgba(60, 64, 67, 0.15);\n",
              "      fill: #174EA6;\n",
              "    }\n",
              "\n",
              "    .colab-df-buttons div {\n",
              "      margin-bottom: 4px;\n",
              "    }\n",
              "\n",
              "    [theme=dark] .colab-df-convert {\n",
              "      background-color: #3B4455;\n",
              "      fill: #D2E3FC;\n",
              "    }\n",
              "\n",
              "    [theme=dark] .colab-df-convert:hover {\n",
              "      background-color: #434B5C;\n",
              "      box-shadow: 0px 1px 3px 1px rgba(0, 0, 0, 0.15);\n",
              "      filter: drop-shadow(0px 1px 2px rgba(0, 0, 0, 0.3));\n",
              "      fill: #FFFFFF;\n",
              "    }\n",
              "  </style>\n",
              "\n",
              "    <script>\n",
              "      const buttonEl =\n",
              "        document.querySelector('#df-2e8d7bb4-5c14-42f1-8449-0f6a89bf217d button.colab-df-convert');\n",
              "      buttonEl.style.display =\n",
              "        google.colab.kernel.accessAllowed ? 'block' : 'none';\n",
              "\n",
              "      async function convertToInteractive(key) {\n",
              "        const element = document.querySelector('#df-2e8d7bb4-5c14-42f1-8449-0f6a89bf217d');\n",
              "        const dataTable =\n",
              "          await google.colab.kernel.invokeFunction('convertToInteractive',\n",
              "                                                    [key], {});\n",
              "        if (!dataTable) return;\n",
              "\n",
              "        const docLinkHtml = 'Like what you see? Visit the ' +\n",
              "          '<a target=\"_blank\" href=https://colab.research.google.com/notebooks/data_table.ipynb>data table notebook</a>'\n",
              "          + ' to learn more about interactive tables.';\n",
              "        element.innerHTML = '';\n",
              "        dataTable['output_type'] = 'display_data';\n",
              "        await google.colab.output.renderOutput(dataTable, element);\n",
              "        const docLink = document.createElement('div');\n",
              "        docLink.innerHTML = docLinkHtml;\n",
              "        element.appendChild(docLink);\n",
              "      }\n",
              "    </script>\n",
              "  </div>\n",
              "\n",
              "\n",
              "    </div>\n",
              "  </div>\n"
            ]
          },
          "metadata": {},
          "execution_count": 7
        }
      ]
    },
    {
      "cell_type": "markdown",
      "source": [
        "#### Missing Values/Null Values"
      ],
      "metadata": {
        "id": "PoPl-ycgm1ru"
      }
    },
    {
      "cell_type": "code",
      "source": [
        "# Missing Values/Null Values Count\n",
        "df.isnull().sum()"
      ],
      "metadata": {
        "id": "GgHWkxvamxVg",
        "colab": {
          "base_uri": "https://localhost:8080/"
        },
        "outputId": "0a5f1d4d-587b-4dd1-ac36-9e5468d66026"
      },
      "execution_count": 8,
      "outputs": [
        {
          "output_type": "execute_result",
          "data": {
            "text/plain": [
              "Date                         0\n",
              "Rented Bike Count            0\n",
              "Hour                         0\n",
              "Temperature(°C)              0\n",
              "Humidity(%)                  0\n",
              "Wind speed (m/s)             0\n",
              "Visibility (10m)             0\n",
              "Dew point temperature(°C)    0\n",
              "Solar Radiation (MJ/m2)      0\n",
              "Rainfall(mm)                 0\n",
              "Snowfall (cm)                0\n",
              "Seasons                      0\n",
              "Holiday                      0\n",
              "Functioning Day              0\n",
              "dtype: int64"
            ]
          },
          "metadata": {},
          "execution_count": 8
        }
      ]
    },
    {
      "cell_type": "markdown",
      "source": [
        "### What did we know about the dataset so far?"
      ],
      "metadata": {
        "id": "H0kj-8xxnORC"
      }
    },
    {
      "cell_type": "markdown",
      "source": [
        "- The dataset has no null values or any duplicate values.\n",
        "- The features are mostly numerical in nature.\n",
        "- The dataset consist a datetime feature in string format."
      ],
      "metadata": {
        "id": "gfoNAAC-nUe_"
      }
    },
    {
      "cell_type": "markdown",
      "source": [
        "## ***2. Understanding Variables***"
      ],
      "metadata": {
        "id": "nA9Y7ga8ng1Z"
      }
    },
    {
      "cell_type": "code",
      "source": [
        "# Dataset Columns\n",
        "\n",
        "df.columns"
      ],
      "metadata": {
        "id": "j7xfkqrt5Ag5",
        "colab": {
          "base_uri": "https://localhost:8080/"
        },
        "outputId": "8c5f3975-7835-40d6-e5a4-f3abd6647948"
      },
      "execution_count": 9,
      "outputs": [
        {
          "output_type": "execute_result",
          "data": {
            "text/plain": [
              "Index(['Date', 'Rented Bike Count', 'Hour', 'Temperature(°C)', 'Humidity(%)',\n",
              "       'Wind speed (m/s)', 'Visibility (10m)', 'Dew point temperature(°C)',\n",
              "       'Solar Radiation (MJ/m2)', 'Rainfall(mm)', 'Snowfall (cm)', 'Seasons',\n",
              "       'Holiday', 'Functioning Day'],\n",
              "      dtype='object')"
            ]
          },
          "metadata": {},
          "execution_count": 9
        }
      ]
    },
    {
      "cell_type": "code",
      "source": [
        "# Dataset Describe\n",
        "df.describe()"
      ],
      "metadata": {
        "id": "DnOaZdaE5Q5t",
        "colab": {
          "base_uri": "https://localhost:8080/",
          "height": 317
        },
        "outputId": "c6b3ae69-89ac-4376-a3e4-d3525a430579"
      },
      "execution_count": 10,
      "outputs": [
        {
          "output_type": "execute_result",
          "data": {
            "text/plain": [
              "       Rented Bike Count         Hour  Temperature(°C)  Humidity(%)  \\\n",
              "count        8760.000000  8760.000000      8760.000000  8760.000000   \n",
              "mean          704.602055    11.500000        12.882922    58.226256   \n",
              "std           644.997468     6.922582        11.944825    20.362413   \n",
              "min             0.000000     0.000000       -17.800000     0.000000   \n",
              "25%           191.000000     5.750000         3.500000    42.000000   \n",
              "50%           504.500000    11.500000        13.700000    57.000000   \n",
              "75%          1065.250000    17.250000        22.500000    74.000000   \n",
              "max          3556.000000    23.000000        39.400000    98.000000   \n",
              "\n",
              "       Wind speed (m/s)  Visibility (10m)  Dew point temperature(°C)  \\\n",
              "count       8760.000000       8760.000000                8760.000000   \n",
              "mean           1.724909       1436.825799                   4.073813   \n",
              "std            1.036300        608.298712                  13.060369   \n",
              "min            0.000000         27.000000                 -30.600000   \n",
              "25%            0.900000        940.000000                  -4.700000   \n",
              "50%            1.500000       1698.000000                   5.100000   \n",
              "75%            2.300000       2000.000000                  14.800000   \n",
              "max            7.400000       2000.000000                  27.200000   \n",
              "\n",
              "       Solar Radiation (MJ/m2)  Rainfall(mm)  Snowfall (cm)  \n",
              "count              8760.000000   8760.000000    8760.000000  \n",
              "mean                  0.569111      0.148687       0.075068  \n",
              "std                   0.868746      1.128193       0.436746  \n",
              "min                   0.000000      0.000000       0.000000  \n",
              "25%                   0.000000      0.000000       0.000000  \n",
              "50%                   0.010000      0.000000       0.000000  \n",
              "75%                   0.930000      0.000000       0.000000  \n",
              "max                   3.520000     35.000000       8.800000  "
            ],
            "text/html": [
              "\n",
              "  <div id=\"df-5d40e69b-5d0a-4123-9328-53d423454938\" class=\"colab-df-container\">\n",
              "    <div>\n",
              "<style scoped>\n",
              "    .dataframe tbody tr th:only-of-type {\n",
              "        vertical-align: middle;\n",
              "    }\n",
              "\n",
              "    .dataframe tbody tr th {\n",
              "        vertical-align: top;\n",
              "    }\n",
              "\n",
              "    .dataframe thead th {\n",
              "        text-align: right;\n",
              "    }\n",
              "</style>\n",
              "<table border=\"1\" class=\"dataframe\">\n",
              "  <thead>\n",
              "    <tr style=\"text-align: right;\">\n",
              "      <th></th>\n",
              "      <th>Rented Bike Count</th>\n",
              "      <th>Hour</th>\n",
              "      <th>Temperature(°C)</th>\n",
              "      <th>Humidity(%)</th>\n",
              "      <th>Wind speed (m/s)</th>\n",
              "      <th>Visibility (10m)</th>\n",
              "      <th>Dew point temperature(°C)</th>\n",
              "      <th>Solar Radiation (MJ/m2)</th>\n",
              "      <th>Rainfall(mm)</th>\n",
              "      <th>Snowfall (cm)</th>\n",
              "    </tr>\n",
              "  </thead>\n",
              "  <tbody>\n",
              "    <tr>\n",
              "      <th>count</th>\n",
              "      <td>8760.000000</td>\n",
              "      <td>8760.000000</td>\n",
              "      <td>8760.000000</td>\n",
              "      <td>8760.000000</td>\n",
              "      <td>8760.000000</td>\n",
              "      <td>8760.000000</td>\n",
              "      <td>8760.000000</td>\n",
              "      <td>8760.000000</td>\n",
              "      <td>8760.000000</td>\n",
              "      <td>8760.000000</td>\n",
              "    </tr>\n",
              "    <tr>\n",
              "      <th>mean</th>\n",
              "      <td>704.602055</td>\n",
              "      <td>11.500000</td>\n",
              "      <td>12.882922</td>\n",
              "      <td>58.226256</td>\n",
              "      <td>1.724909</td>\n",
              "      <td>1436.825799</td>\n",
              "      <td>4.073813</td>\n",
              "      <td>0.569111</td>\n",
              "      <td>0.148687</td>\n",
              "      <td>0.075068</td>\n",
              "    </tr>\n",
              "    <tr>\n",
              "      <th>std</th>\n",
              "      <td>644.997468</td>\n",
              "      <td>6.922582</td>\n",
              "      <td>11.944825</td>\n",
              "      <td>20.362413</td>\n",
              "      <td>1.036300</td>\n",
              "      <td>608.298712</td>\n",
              "      <td>13.060369</td>\n",
              "      <td>0.868746</td>\n",
              "      <td>1.128193</td>\n",
              "      <td>0.436746</td>\n",
              "    </tr>\n",
              "    <tr>\n",
              "      <th>min</th>\n",
              "      <td>0.000000</td>\n",
              "      <td>0.000000</td>\n",
              "      <td>-17.800000</td>\n",
              "      <td>0.000000</td>\n",
              "      <td>0.000000</td>\n",
              "      <td>27.000000</td>\n",
              "      <td>-30.600000</td>\n",
              "      <td>0.000000</td>\n",
              "      <td>0.000000</td>\n",
              "      <td>0.000000</td>\n",
              "    </tr>\n",
              "    <tr>\n",
              "      <th>25%</th>\n",
              "      <td>191.000000</td>\n",
              "      <td>5.750000</td>\n",
              "      <td>3.500000</td>\n",
              "      <td>42.000000</td>\n",
              "      <td>0.900000</td>\n",
              "      <td>940.000000</td>\n",
              "      <td>-4.700000</td>\n",
              "      <td>0.000000</td>\n",
              "      <td>0.000000</td>\n",
              "      <td>0.000000</td>\n",
              "    </tr>\n",
              "    <tr>\n",
              "      <th>50%</th>\n",
              "      <td>504.500000</td>\n",
              "      <td>11.500000</td>\n",
              "      <td>13.700000</td>\n",
              "      <td>57.000000</td>\n",
              "      <td>1.500000</td>\n",
              "      <td>1698.000000</td>\n",
              "      <td>5.100000</td>\n",
              "      <td>0.010000</td>\n",
              "      <td>0.000000</td>\n",
              "      <td>0.000000</td>\n",
              "    </tr>\n",
              "    <tr>\n",
              "      <th>75%</th>\n",
              "      <td>1065.250000</td>\n",
              "      <td>17.250000</td>\n",
              "      <td>22.500000</td>\n",
              "      <td>74.000000</td>\n",
              "      <td>2.300000</td>\n",
              "      <td>2000.000000</td>\n",
              "      <td>14.800000</td>\n",
              "      <td>0.930000</td>\n",
              "      <td>0.000000</td>\n",
              "      <td>0.000000</td>\n",
              "    </tr>\n",
              "    <tr>\n",
              "      <th>max</th>\n",
              "      <td>3556.000000</td>\n",
              "      <td>23.000000</td>\n",
              "      <td>39.400000</td>\n",
              "      <td>98.000000</td>\n",
              "      <td>7.400000</td>\n",
              "      <td>2000.000000</td>\n",
              "      <td>27.200000</td>\n",
              "      <td>3.520000</td>\n",
              "      <td>35.000000</td>\n",
              "      <td>8.800000</td>\n",
              "    </tr>\n",
              "  </tbody>\n",
              "</table>\n",
              "</div>\n",
              "    <div class=\"colab-df-buttons\">\n",
              "\n",
              "  <div class=\"colab-df-container\">\n",
              "    <button class=\"colab-df-convert\" onclick=\"convertToInteractive('df-5d40e69b-5d0a-4123-9328-53d423454938')\"\n",
              "            title=\"Convert this dataframe to an interactive table.\"\n",
              "            style=\"display:none;\">\n",
              "\n",
              "  <svg xmlns=\"http://www.w3.org/2000/svg\" height=\"24px\" viewBox=\"0 -960 960 960\">\n",
              "    <path d=\"M120-120v-720h720v720H120Zm60-500h600v-160H180v160Zm220 220h160v-160H400v160Zm0 220h160v-160H400v160ZM180-400h160v-160H180v160Zm440 0h160v-160H620v160ZM180-180h160v-160H180v160Zm440 0h160v-160H620v160Z\"/>\n",
              "  </svg>\n",
              "    </button>\n",
              "\n",
              "  <style>\n",
              "    .colab-df-container {\n",
              "      display:flex;\n",
              "      gap: 12px;\n",
              "    }\n",
              "\n",
              "    .colab-df-convert {\n",
              "      background-color: #E8F0FE;\n",
              "      border: none;\n",
              "      border-radius: 50%;\n",
              "      cursor: pointer;\n",
              "      display: none;\n",
              "      fill: #1967D2;\n",
              "      height: 32px;\n",
              "      padding: 0 0 0 0;\n",
              "      width: 32px;\n",
              "    }\n",
              "\n",
              "    .colab-df-convert:hover {\n",
              "      background-color: #E2EBFA;\n",
              "      box-shadow: 0px 1px 2px rgba(60, 64, 67, 0.3), 0px 1px 3px 1px rgba(60, 64, 67, 0.15);\n",
              "      fill: #174EA6;\n",
              "    }\n",
              "\n",
              "    .colab-df-buttons div {\n",
              "      margin-bottom: 4px;\n",
              "    }\n",
              "\n",
              "    [theme=dark] .colab-df-convert {\n",
              "      background-color: #3B4455;\n",
              "      fill: #D2E3FC;\n",
              "    }\n",
              "\n",
              "    [theme=dark] .colab-df-convert:hover {\n",
              "      background-color: #434B5C;\n",
              "      box-shadow: 0px 1px 3px 1px rgba(0, 0, 0, 0.15);\n",
              "      filter: drop-shadow(0px 1px 2px rgba(0, 0, 0, 0.3));\n",
              "      fill: #FFFFFF;\n",
              "    }\n",
              "  </style>\n",
              "\n",
              "    <script>\n",
              "      const buttonEl =\n",
              "        document.querySelector('#df-5d40e69b-5d0a-4123-9328-53d423454938 button.colab-df-convert');\n",
              "      buttonEl.style.display =\n",
              "        google.colab.kernel.accessAllowed ? 'block' : 'none';\n",
              "\n",
              "      async function convertToInteractive(key) {\n",
              "        const element = document.querySelector('#df-5d40e69b-5d0a-4123-9328-53d423454938');\n",
              "        const dataTable =\n",
              "          await google.colab.kernel.invokeFunction('convertToInteractive',\n",
              "                                                    [key], {});\n",
              "        if (!dataTable) return;\n",
              "\n",
              "        const docLinkHtml = 'Like what you see? Visit the ' +\n",
              "          '<a target=\"_blank\" href=https://colab.research.google.com/notebooks/data_table.ipynb>data table notebook</a>'\n",
              "          + ' to learn more about interactive tables.';\n",
              "        element.innerHTML = '';\n",
              "        dataTable['output_type'] = 'display_data';\n",
              "        await google.colab.output.renderOutput(dataTable, element);\n",
              "        const docLink = document.createElement('div');\n",
              "        docLink.innerHTML = docLinkHtml;\n",
              "        element.appendChild(docLink);\n",
              "      }\n",
              "    </script>\n",
              "  </div>\n",
              "\n",
              "\n",
              "<div id=\"df-ac3783e3-d58c-496f-a462-3734eb59e1f9\">\n",
              "  <button class=\"colab-df-quickchart\" onclick=\"quickchart('df-ac3783e3-d58c-496f-a462-3734eb59e1f9')\"\n",
              "            title=\"Suggest charts\"\n",
              "            style=\"display:none;\">\n",
              "\n",
              "<svg xmlns=\"http://www.w3.org/2000/svg\" height=\"24px\"viewBox=\"0 0 24 24\"\n",
              "     width=\"24px\">\n",
              "    <g>\n",
              "        <path d=\"M19 3H5c-1.1 0-2 .9-2 2v14c0 1.1.9 2 2 2h14c1.1 0 2-.9 2-2V5c0-1.1-.9-2-2-2zM9 17H7v-7h2v7zm4 0h-2V7h2v10zm4 0h-2v-4h2v4z\"/>\n",
              "    </g>\n",
              "</svg>\n",
              "  </button>\n",
              "\n",
              "<style>\n",
              "  .colab-df-quickchart {\n",
              "      --bg-color: #E8F0FE;\n",
              "      --fill-color: #1967D2;\n",
              "      --hover-bg-color: #E2EBFA;\n",
              "      --hover-fill-color: #174EA6;\n",
              "      --disabled-fill-color: #AAA;\n",
              "      --disabled-bg-color: #DDD;\n",
              "  }\n",
              "\n",
              "  [theme=dark] .colab-df-quickchart {\n",
              "      --bg-color: #3B4455;\n",
              "      --fill-color: #D2E3FC;\n",
              "      --hover-bg-color: #434B5C;\n",
              "      --hover-fill-color: #FFFFFF;\n",
              "      --disabled-bg-color: #3B4455;\n",
              "      --disabled-fill-color: #666;\n",
              "  }\n",
              "\n",
              "  .colab-df-quickchart {\n",
              "    background-color: var(--bg-color);\n",
              "    border: none;\n",
              "    border-radius: 50%;\n",
              "    cursor: pointer;\n",
              "    display: none;\n",
              "    fill: var(--fill-color);\n",
              "    height: 32px;\n",
              "    padding: 0;\n",
              "    width: 32px;\n",
              "  }\n",
              "\n",
              "  .colab-df-quickchart:hover {\n",
              "    background-color: var(--hover-bg-color);\n",
              "    box-shadow: 0 1px 2px rgba(60, 64, 67, 0.3), 0 1px 3px 1px rgba(60, 64, 67, 0.15);\n",
              "    fill: var(--button-hover-fill-color);\n",
              "  }\n",
              "\n",
              "  .colab-df-quickchart-complete:disabled,\n",
              "  .colab-df-quickchart-complete:disabled:hover {\n",
              "    background-color: var(--disabled-bg-color);\n",
              "    fill: var(--disabled-fill-color);\n",
              "    box-shadow: none;\n",
              "  }\n",
              "\n",
              "  .colab-df-spinner {\n",
              "    border: 2px solid var(--fill-color);\n",
              "    border-color: transparent;\n",
              "    border-bottom-color: var(--fill-color);\n",
              "    animation:\n",
              "      spin 1s steps(1) infinite;\n",
              "  }\n",
              "\n",
              "  @keyframes spin {\n",
              "    0% {\n",
              "      border-color: transparent;\n",
              "      border-bottom-color: var(--fill-color);\n",
              "      border-left-color: var(--fill-color);\n",
              "    }\n",
              "    20% {\n",
              "      border-color: transparent;\n",
              "      border-left-color: var(--fill-color);\n",
              "      border-top-color: var(--fill-color);\n",
              "    }\n",
              "    30% {\n",
              "      border-color: transparent;\n",
              "      border-left-color: var(--fill-color);\n",
              "      border-top-color: var(--fill-color);\n",
              "      border-right-color: var(--fill-color);\n",
              "    }\n",
              "    40% {\n",
              "      border-color: transparent;\n",
              "      border-right-color: var(--fill-color);\n",
              "      border-top-color: var(--fill-color);\n",
              "    }\n",
              "    60% {\n",
              "      border-color: transparent;\n",
              "      border-right-color: var(--fill-color);\n",
              "    }\n",
              "    80% {\n",
              "      border-color: transparent;\n",
              "      border-right-color: var(--fill-color);\n",
              "      border-bottom-color: var(--fill-color);\n",
              "    }\n",
              "    90% {\n",
              "      border-color: transparent;\n",
              "      border-bottom-color: var(--fill-color);\n",
              "    }\n",
              "  }\n",
              "</style>\n",
              "\n",
              "  <script>\n",
              "    async function quickchart(key) {\n",
              "      const quickchartButtonEl =\n",
              "        document.querySelector('#' + key + ' button');\n",
              "      quickchartButtonEl.disabled = true;  // To prevent multiple clicks.\n",
              "      quickchartButtonEl.classList.add('colab-df-spinner');\n",
              "      try {\n",
              "        const charts = await google.colab.kernel.invokeFunction(\n",
              "            'suggestCharts', [key], {});\n",
              "      } catch (error) {\n",
              "        console.error('Error during call to suggestCharts:', error);\n",
              "      }\n",
              "      quickchartButtonEl.classList.remove('colab-df-spinner');\n",
              "      quickchartButtonEl.classList.add('colab-df-quickchart-complete');\n",
              "    }\n",
              "    (() => {\n",
              "      let quickchartButtonEl =\n",
              "        document.querySelector('#df-ac3783e3-d58c-496f-a462-3734eb59e1f9 button');\n",
              "      quickchartButtonEl.style.display =\n",
              "        google.colab.kernel.accessAllowed ? 'block' : 'none';\n",
              "    })();\n",
              "  </script>\n",
              "</div>\n",
              "\n",
              "    </div>\n",
              "  </div>\n"
            ]
          },
          "metadata": {},
          "execution_count": 10
        }
      ]
    },
    {
      "cell_type": "markdown",
      "source": [
        "### Variables Description"
      ],
      "metadata": {
        "id": "PBTbrJXOngz2"
      }
    },
    {
      "cell_type": "markdown",
      "source": [
        "\n",
        "![image.png](data:image/png;base64,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)"
      ],
      "metadata": {
        "id": "aJV4KIxSnxay"
      }
    },
    {
      "cell_type": "markdown",
      "source": [
        "### Check Unique Values for each variable."
      ],
      "metadata": {
        "id": "u3PMJOP6ngxN"
      }
    },
    {
      "cell_type": "code",
      "source": [
        "# Check Unique Values for each variable.\n",
        "\n",
        "pd.DataFrame(zip(df.columns,[df[f'{i}'].nunique() for i in df.columns]), columns = ['Features', 'Unique Value Count'])\n"
      ],
      "metadata": {
        "id": "zms12Yq5n-jE",
        "colab": {
          "base_uri": "https://localhost:8080/",
          "height": 488
        },
        "outputId": "56d03bf1-c626-45b2-b743-49f8215520ba"
      },
      "execution_count": 27,
      "outputs": [
        {
          "output_type": "execute_result",
          "data": {
            "text/plain": [
              "                     Features  Unique Value Count\n",
              "0                        Date                 365\n",
              "1           Rented Bike Count                2166\n",
              "2                        Hour                  24\n",
              "3             Temperature(°C)                 546\n",
              "4                 Humidity(%)                  90\n",
              "5            Wind speed (m/s)                  65\n",
              "6            Visibility (10m)                1789\n",
              "7   Dew point temperature(°C)                 556\n",
              "8     Solar Radiation (MJ/m2)                 345\n",
              "9                Rainfall(mm)                  61\n",
              "10              Snowfall (cm)                  51\n",
              "11                    Seasons                   4\n",
              "12                    Holiday                   2\n",
              "13            Functioning Day                   2"
            ],
            "text/html": [
              "\n",
              "  <div id=\"df-e5d91024-1a4c-4ad0-adfd-b5b3b837f2c4\" class=\"colab-df-container\">\n",
              "    <div>\n",
              "<style scoped>\n",
              "    .dataframe tbody tr th:only-of-type {\n",
              "        vertical-align: middle;\n",
              "    }\n",
              "\n",
              "    .dataframe tbody tr th {\n",
              "        vertical-align: top;\n",
              "    }\n",
              "\n",
              "    .dataframe thead th {\n",
              "        text-align: right;\n",
              "    }\n",
              "</style>\n",
              "<table border=\"1\" class=\"dataframe\">\n",
              "  <thead>\n",
              "    <tr style=\"text-align: right;\">\n",
              "      <th></th>\n",
              "      <th>Features</th>\n",
              "      <th>Unique Value Count</th>\n",
              "    </tr>\n",
              "  </thead>\n",
              "  <tbody>\n",
              "    <tr>\n",
              "      <th>0</th>\n",
              "      <td>Date</td>\n",
              "      <td>365</td>\n",
              "    </tr>\n",
              "    <tr>\n",
              "      <th>1</th>\n",
              "      <td>Rented Bike Count</td>\n",
              "      <td>2166</td>\n",
              "    </tr>\n",
              "    <tr>\n",
              "      <th>2</th>\n",
              "      <td>Hour</td>\n",
              "      <td>24</td>\n",
              "    </tr>\n",
              "    <tr>\n",
              "      <th>3</th>\n",
              "      <td>Temperature(°C)</td>\n",
              "      <td>546</td>\n",
              "    </tr>\n",
              "    <tr>\n",
              "      <th>4</th>\n",
              "      <td>Humidity(%)</td>\n",
              "      <td>90</td>\n",
              "    </tr>\n",
              "    <tr>\n",
              "      <th>5</th>\n",
              "      <td>Wind speed (m/s)</td>\n",
              "      <td>65</td>\n",
              "    </tr>\n",
              "    <tr>\n",
              "      <th>6</th>\n",
              "      <td>Visibility (10m)</td>\n",
              "      <td>1789</td>\n",
              "    </tr>\n",
              "    <tr>\n",
              "      <th>7</th>\n",
              "      <td>Dew point temperature(°C)</td>\n",
              "      <td>556</td>\n",
              "    </tr>\n",
              "    <tr>\n",
              "      <th>8</th>\n",
              "      <td>Solar Radiation (MJ/m2)</td>\n",
              "      <td>345</td>\n",
              "    </tr>\n",
              "    <tr>\n",
              "      <th>9</th>\n",
              "      <td>Rainfall(mm)</td>\n",
              "      <td>61</td>\n",
              "    </tr>\n",
              "    <tr>\n",
              "      <th>10</th>\n",
              "      <td>Snowfall (cm)</td>\n",
              "      <td>51</td>\n",
              "    </tr>\n",
              "    <tr>\n",
              "      <th>11</th>\n",
              "      <td>Seasons</td>\n",
              "      <td>4</td>\n",
              "    </tr>\n",
              "    <tr>\n",
              "      <th>12</th>\n",
              "      <td>Holiday</td>\n",
              "      <td>2</td>\n",
              "    </tr>\n",
              "    <tr>\n",
              "      <th>13</th>\n",
              "      <td>Functioning Day</td>\n",
              "      <td>2</td>\n",
              "    </tr>\n",
              "  </tbody>\n",
              "</table>\n",
              "</div>\n",
              "    <div class=\"colab-df-buttons\">\n",
              "\n",
              "  <div class=\"colab-df-container\">\n",
              "    <button class=\"colab-df-convert\" onclick=\"convertToInteractive('df-e5d91024-1a4c-4ad0-adfd-b5b3b837f2c4')\"\n",
              "            title=\"Convert this dataframe to an interactive table.\"\n",
              "            style=\"display:none;\">\n",
              "\n",
              "  <svg xmlns=\"http://www.w3.org/2000/svg\" height=\"24px\" viewBox=\"0 -960 960 960\">\n",
              "    <path d=\"M120-120v-720h720v720H120Zm60-500h600v-160H180v160Zm220 220h160v-160H400v160Zm0 220h160v-160H400v160ZM180-400h160v-160H180v160Zm440 0h160v-160H620v160ZM180-180h160v-160H180v160Zm440 0h160v-160H620v160Z\"/>\n",
              "  </svg>\n",
              "    </button>\n",
              "\n",
              "  <style>\n",
              "    .colab-df-container {\n",
              "      display:flex;\n",
              "      gap: 12px;\n",
              "    }\n",
              "\n",
              "    .colab-df-convert {\n",
              "      background-color: #E8F0FE;\n",
              "      border: none;\n",
              "      border-radius: 50%;\n",
              "      cursor: pointer;\n",
              "      display: none;\n",
              "      fill: #1967D2;\n",
              "      height: 32px;\n",
              "      padding: 0 0 0 0;\n",
              "      width: 32px;\n",
              "    }\n",
              "\n",
              "    .colab-df-convert:hover {\n",
              "      background-color: #E2EBFA;\n",
              "      box-shadow: 0px 1px 2px rgba(60, 64, 67, 0.3), 0px 1px 3px 1px rgba(60, 64, 67, 0.15);\n",
              "      fill: #174EA6;\n",
              "    }\n",
              "\n",
              "    .colab-df-buttons div {\n",
              "      margin-bottom: 4px;\n",
              "    }\n",
              "\n",
              "    [theme=dark] .colab-df-convert {\n",
              "      background-color: #3B4455;\n",
              "      fill: #D2E3FC;\n",
              "    }\n",
              "\n",
              "    [theme=dark] .colab-df-convert:hover {\n",
              "      background-color: #434B5C;\n",
              "      box-shadow: 0px 1px 3px 1px rgba(0, 0, 0, 0.15);\n",
              "      filter: drop-shadow(0px 1px 2px rgba(0, 0, 0, 0.3));\n",
              "      fill: #FFFFFF;\n",
              "    }\n",
              "  </style>\n",
              "\n",
              "    <script>\n",
              "      const buttonEl =\n",
              "        document.querySelector('#df-e5d91024-1a4c-4ad0-adfd-b5b3b837f2c4 button.colab-df-convert');\n",
              "      buttonEl.style.display =\n",
              "        google.colab.kernel.accessAllowed ? 'block' : 'none';\n",
              "\n",
              "      async function convertToInteractive(key) {\n",
              "        const element = document.querySelector('#df-e5d91024-1a4c-4ad0-adfd-b5b3b837f2c4');\n",
              "        const dataTable =\n",
              "          await google.colab.kernel.invokeFunction('convertToInteractive',\n",
              "                                                    [key], {});\n",
              "        if (!dataTable) return;\n",
              "\n",
              "        const docLinkHtml = 'Like what you see? Visit the ' +\n",
              "          '<a target=\"_blank\" href=https://colab.research.google.com/notebooks/data_table.ipynb>data table notebook</a>'\n",
              "          + ' to learn more about interactive tables.';\n",
              "        element.innerHTML = '';\n",
              "        dataTable['output_type'] = 'display_data';\n",
              "        await google.colab.output.renderOutput(dataTable, element);\n",
              "        const docLink = document.createElement('div');\n",
              "        docLink.innerHTML = docLinkHtml;\n",
              "        element.appendChild(docLink);\n",
              "      }\n",
              "    </script>\n",
              "  </div>\n",
              "\n",
              "\n",
              "<div id=\"df-ef0b6090-1ec2-4ddc-8720-d35ef3979754\">\n",
              "  <button class=\"colab-df-quickchart\" onclick=\"quickchart('df-ef0b6090-1ec2-4ddc-8720-d35ef3979754')\"\n",
              "            title=\"Suggest charts\"\n",
              "            style=\"display:none;\">\n",
              "\n",
              "<svg xmlns=\"http://www.w3.org/2000/svg\" height=\"24px\"viewBox=\"0 0 24 24\"\n",
              "     width=\"24px\">\n",
              "    <g>\n",
              "        <path d=\"M19 3H5c-1.1 0-2 .9-2 2v14c0 1.1.9 2 2 2h14c1.1 0 2-.9 2-2V5c0-1.1-.9-2-2-2zM9 17H7v-7h2v7zm4 0h-2V7h2v10zm4 0h-2v-4h2v4z\"/>\n",
              "    </g>\n",
              "</svg>\n",
              "  </button>\n",
              "\n",
              "<style>\n",
              "  .colab-df-quickchart {\n",
              "      --bg-color: #E8F0FE;\n",
              "      --fill-color: #1967D2;\n",
              "      --hover-bg-color: #E2EBFA;\n",
              "      --hover-fill-color: #174EA6;\n",
              "      --disabled-fill-color: #AAA;\n",
              "      --disabled-bg-color: #DDD;\n",
              "  }\n",
              "\n",
              "  [theme=dark] .colab-df-quickchart {\n",
              "      --bg-color: #3B4455;\n",
              "      --fill-color: #D2E3FC;\n",
              "      --hover-bg-color: #434B5C;\n",
              "      --hover-fill-color: #FFFFFF;\n",
              "      --disabled-bg-color: #3B4455;\n",
              "      --disabled-fill-color: #666;\n",
              "  }\n",
              "\n",
              "  .colab-df-quickchart {\n",
              "    background-color: var(--bg-color);\n",
              "    border: none;\n",
              "    border-radius: 50%;\n",
              "    cursor: pointer;\n",
              "    display: none;\n",
              "    fill: var(--fill-color);\n",
              "    height: 32px;\n",
              "    padding: 0;\n",
              "    width: 32px;\n",
              "  }\n",
              "\n",
              "  .colab-df-quickchart:hover {\n",
              "    background-color: var(--hover-bg-color);\n",
              "    box-shadow: 0 1px 2px rgba(60, 64, 67, 0.3), 0 1px 3px 1px rgba(60, 64, 67, 0.15);\n",
              "    fill: var(--button-hover-fill-color);\n",
              "  }\n",
              "\n",
              "  .colab-df-quickchart-complete:disabled,\n",
              "  .colab-df-quickchart-complete:disabled:hover {\n",
              "    background-color: var(--disabled-bg-color);\n",
              "    fill: var(--disabled-fill-color);\n",
              "    box-shadow: none;\n",
              "  }\n",
              "\n",
              "  .colab-df-spinner {\n",
              "    border: 2px solid var(--fill-color);\n",
              "    border-color: transparent;\n",
              "    border-bottom-color: var(--fill-color);\n",
              "    animation:\n",
              "      spin 1s steps(1) infinite;\n",
              "  }\n",
              "\n",
              "  @keyframes spin {\n",
              "    0% {\n",
              "      border-color: transparent;\n",
              "      border-bottom-color: var(--fill-color);\n",
              "      border-left-color: var(--fill-color);\n",
              "    }\n",
              "    20% {\n",
              "      border-color: transparent;\n",
              "      border-left-color: var(--fill-color);\n",
              "      border-top-color: var(--fill-color);\n",
              "    }\n",
              "    30% {\n",
              "      border-color: transparent;\n",
              "      border-left-color: var(--fill-color);\n",
              "      border-top-color: var(--fill-color);\n",
              "      border-right-color: var(--fill-color);\n",
              "    }\n",
              "    40% {\n",
              "      border-color: transparent;\n",
              "      border-right-color: var(--fill-color);\n",
              "      border-top-color: var(--fill-color);\n",
              "    }\n",
              "    60% {\n",
              "      border-color: transparent;\n",
              "      border-right-color: var(--fill-color);\n",
              "    }\n",
              "    80% {\n",
              "      border-color: transparent;\n",
              "      border-right-color: var(--fill-color);\n",
              "      border-bottom-color: var(--fill-color);\n",
              "    }\n",
              "    90% {\n",
              "      border-color: transparent;\n",
              "      border-bottom-color: var(--fill-color);\n",
              "    }\n",
              "  }\n",
              "</style>\n",
              "\n",
              "  <script>\n",
              "    async function quickchart(key) {\n",
              "      const quickchartButtonEl =\n",
              "        document.querySelector('#' + key + ' button');\n",
              "      quickchartButtonEl.disabled = true;  // To prevent multiple clicks.\n",
              "      quickchartButtonEl.classList.add('colab-df-spinner');\n",
              "      try {\n",
              "        const charts = await google.colab.kernel.invokeFunction(\n",
              "            'suggestCharts', [key], {});\n",
              "      } catch (error) {\n",
              "        console.error('Error during call to suggestCharts:', error);\n",
              "      }\n",
              "      quickchartButtonEl.classList.remove('colab-df-spinner');\n",
              "      quickchartButtonEl.classList.add('colab-df-quickchart-complete');\n",
              "    }\n",
              "    (() => {\n",
              "      let quickchartButtonEl =\n",
              "        document.querySelector('#df-ef0b6090-1ec2-4ddc-8720-d35ef3979754 button');\n",
              "      quickchartButtonEl.style.display =\n",
              "        google.colab.kernel.accessAllowed ? 'block' : 'none';\n",
              "    })();\n",
              "  </script>\n",
              "</div>\n",
              "\n",
              "    </div>\n",
              "  </div>\n"
            ]
          },
          "metadata": {},
          "execution_count": 27
        }
      ]
    },
    {
      "cell_type": "markdown",
      "source": [
        "## 3. ***Data Wrangling***"
      ],
      "metadata": {
        "id": "dauF4eBmngu3"
      }
    },
    {
      "cell_type": "markdown",
      "source": [
        "### Data Wrangling Code"
      ],
      "metadata": {
        "id": "bKJF3rekwFvQ"
      }
    },
    {
      "cell_type": "code",
      "source": [
        "df"
      ],
      "metadata": {
        "colab": {
          "base_uri": "https://localhost:8080/",
          "height": 632
        },
        "id": "01VZ3dJSajB6",
        "outputId": "4844645e-da92-43b0-8891-7bb5280cd581"
      },
      "execution_count": 28,
      "outputs": [
        {
          "output_type": "execute_result",
          "data": {
            "text/plain": [
              "            Date  Rented Bike Count  Hour  Temperature(°C)  Humidity(%)  \\\n",
              "0     01/12/2017                254     0             -5.2           37   \n",
              "1     01/12/2017                204     1             -5.5           38   \n",
              "2     01/12/2017                173     2             -6.0           39   \n",
              "3     01/12/2017                107     3             -6.2           40   \n",
              "4     01/12/2017                 78     4             -6.0           36   \n",
              "...          ...                ...   ...              ...          ...   \n",
              "8755  30/11/2018               1003    19              4.2           34   \n",
              "8756  30/11/2018                764    20              3.4           37   \n",
              "8757  30/11/2018                694    21              2.6           39   \n",
              "8758  30/11/2018                712    22              2.1           41   \n",
              "8759  30/11/2018                584    23              1.9           43   \n",
              "\n",
              "      Wind speed (m/s)  Visibility (10m)  Dew point temperature(°C)  \\\n",
              "0                  2.2              2000                      -17.6   \n",
              "1                  0.8              2000                      -17.6   \n",
              "2                  1.0              2000                      -17.7   \n",
              "3                  0.9              2000                      -17.6   \n",
              "4                  2.3              2000                      -18.6   \n",
              "...                ...               ...                        ...   \n",
              "8755               2.6              1894                      -10.3   \n",
              "8756               2.3              2000                       -9.9   \n",
              "8757               0.3              1968                       -9.9   \n",
              "8758               1.0              1859                       -9.8   \n",
              "8759               1.3              1909                       -9.3   \n",
              "\n",
              "      Solar Radiation (MJ/m2)  Rainfall(mm)  Snowfall (cm) Seasons  \\\n",
              "0                         0.0           0.0            0.0  Winter   \n",
              "1                         0.0           0.0            0.0  Winter   \n",
              "2                         0.0           0.0            0.0  Winter   \n",
              "3                         0.0           0.0            0.0  Winter   \n",
              "4                         0.0           0.0            0.0  Winter   \n",
              "...                       ...           ...            ...     ...   \n",
              "8755                      0.0           0.0            0.0  Autumn   \n",
              "8756                      0.0           0.0            0.0  Autumn   \n",
              "8757                      0.0           0.0            0.0  Autumn   \n",
              "8758                      0.0           0.0            0.0  Autumn   \n",
              "8759                      0.0           0.0            0.0  Autumn   \n",
              "\n",
              "         Holiday Functioning Day  \n",
              "0     No Holiday             Yes  \n",
              "1     No Holiday             Yes  \n",
              "2     No Holiday             Yes  \n",
              "3     No Holiday             Yes  \n",
              "4     No Holiday             Yes  \n",
              "...          ...             ...  \n",
              "8755  No Holiday             Yes  \n",
              "8756  No Holiday             Yes  \n",
              "8757  No Holiday             Yes  \n",
              "8758  No Holiday             Yes  \n",
              "8759  No Holiday             Yes  \n",
              "\n",
              "[8760 rows x 14 columns]"
            ],
            "text/html": [
              "\n",
              "  <div id=\"df-20d7391c-4f81-415d-b538-568db56c534a\" class=\"colab-df-container\">\n",
              "    <div>\n",
              "<style scoped>\n",
              "    .dataframe tbody tr th:only-of-type {\n",
              "        vertical-align: middle;\n",
              "    }\n",
              "\n",
              "    .dataframe tbody tr th {\n",
              "        vertical-align: top;\n",
              "    }\n",
              "\n",
              "    .dataframe thead th {\n",
              "        text-align: right;\n",
              "    }\n",
              "</style>\n",
              "<table border=\"1\" class=\"dataframe\">\n",
              "  <thead>\n",
              "    <tr style=\"text-align: right;\">\n",
              "      <th></th>\n",
              "      <th>Date</th>\n",
              "      <th>Rented Bike Count</th>\n",
              "      <th>Hour</th>\n",
              "      <th>Temperature(°C)</th>\n",
              "      <th>Humidity(%)</th>\n",
              "      <th>Wind speed (m/s)</th>\n",
              "      <th>Visibility (10m)</th>\n",
              "      <th>Dew point temperature(°C)</th>\n",
              "      <th>Solar Radiation (MJ/m2)</th>\n",
              "      <th>Rainfall(mm)</th>\n",
              "      <th>Snowfall (cm)</th>\n",
              "      <th>Seasons</th>\n",
              "      <th>Holiday</th>\n",
              "      <th>Functioning Day</th>\n",
              "    </tr>\n",
              "  </thead>\n",
              "  <tbody>\n",
              "    <tr>\n",
              "      <th>0</th>\n",
              "      <td>01/12/2017</td>\n",
              "      <td>254</td>\n",
              "      <td>0</td>\n",
              "      <td>-5.2</td>\n",
              "      <td>37</td>\n",
              "      <td>2.2</td>\n",
              "      <td>2000</td>\n",
              "      <td>-17.6</td>\n",
              "      <td>0.0</td>\n",
              "      <td>0.0</td>\n",
              "      <td>0.0</td>\n",
              "      <td>Winter</td>\n",
              "      <td>No Holiday</td>\n",
              "      <td>Yes</td>\n",
              "    </tr>\n",
              "    <tr>\n",
              "      <th>1</th>\n",
              "      <td>01/12/2017</td>\n",
              "      <td>204</td>\n",
              "      <td>1</td>\n",
              "      <td>-5.5</td>\n",
              "      <td>38</td>\n",
              "      <td>0.8</td>\n",
              "      <td>2000</td>\n",
              "      <td>-17.6</td>\n",
              "      <td>0.0</td>\n",
              "      <td>0.0</td>\n",
              "      <td>0.0</td>\n",
              "      <td>Winter</td>\n",
              "      <td>No Holiday</td>\n",
              "      <td>Yes</td>\n",
              "    </tr>\n",
              "    <tr>\n",
              "      <th>2</th>\n",
              "      <td>01/12/2017</td>\n",
              "      <td>173</td>\n",
              "      <td>2</td>\n",
              "      <td>-6.0</td>\n",
              "      <td>39</td>\n",
              "      <td>1.0</td>\n",
              "      <td>2000</td>\n",
              "      <td>-17.7</td>\n",
              "      <td>0.0</td>\n",
              "      <td>0.0</td>\n",
              "      <td>0.0</td>\n",
              "      <td>Winter</td>\n",
              "      <td>No Holiday</td>\n",
              "      <td>Yes</td>\n",
              "    </tr>\n",
              "    <tr>\n",
              "      <th>3</th>\n",
              "      <td>01/12/2017</td>\n",
              "      <td>107</td>\n",
              "      <td>3</td>\n",
              "      <td>-6.2</td>\n",
              "      <td>40</td>\n",
              "      <td>0.9</td>\n",
              "      <td>2000</td>\n",
              "      <td>-17.6</td>\n",
              "      <td>0.0</td>\n",
              "      <td>0.0</td>\n",
              "      <td>0.0</td>\n",
              "      <td>Winter</td>\n",
              "      <td>No Holiday</td>\n",
              "      <td>Yes</td>\n",
              "    </tr>\n",
              "    <tr>\n",
              "      <th>4</th>\n",
              "      <td>01/12/2017</td>\n",
              "      <td>78</td>\n",
              "      <td>4</td>\n",
              "      <td>-6.0</td>\n",
              "      <td>36</td>\n",
              "      <td>2.3</td>\n",
              "      <td>2000</td>\n",
              "      <td>-18.6</td>\n",
              "      <td>0.0</td>\n",
              "      <td>0.0</td>\n",
              "      <td>0.0</td>\n",
              "      <td>Winter</td>\n",
              "      <td>No Holiday</td>\n",
              "      <td>Yes</td>\n",
              "    </tr>\n",
              "    <tr>\n",
              "      <th>...</th>\n",
              "      <td>...</td>\n",
              "      <td>...</td>\n",
              "      <td>...</td>\n",
              "      <td>...</td>\n",
              "      <td>...</td>\n",
              "      <td>...</td>\n",
              "      <td>...</td>\n",
              "      <td>...</td>\n",
              "      <td>...</td>\n",
              "      <td>...</td>\n",
              "      <td>...</td>\n",
              "      <td>...</td>\n",
              "      <td>...</td>\n",
              "      <td>...</td>\n",
              "    </tr>\n",
              "    <tr>\n",
              "      <th>8755</th>\n",
              "      <td>30/11/2018</td>\n",
              "      <td>1003</td>\n",
              "      <td>19</td>\n",
              "      <td>4.2</td>\n",
              "      <td>34</td>\n",
              "      <td>2.6</td>\n",
              "      <td>1894</td>\n",
              "      <td>-10.3</td>\n",
              "      <td>0.0</td>\n",
              "      <td>0.0</td>\n",
              "      <td>0.0</td>\n",
              "      <td>Autumn</td>\n",
              "      <td>No Holiday</td>\n",
              "      <td>Yes</td>\n",
              "    </tr>\n",
              "    <tr>\n",
              "      <th>8756</th>\n",
              "      <td>30/11/2018</td>\n",
              "      <td>764</td>\n",
              "      <td>20</td>\n",
              "      <td>3.4</td>\n",
              "      <td>37</td>\n",
              "      <td>2.3</td>\n",
              "      <td>2000</td>\n",
              "      <td>-9.9</td>\n",
              "      <td>0.0</td>\n",
              "      <td>0.0</td>\n",
              "      <td>0.0</td>\n",
              "      <td>Autumn</td>\n",
              "      <td>No Holiday</td>\n",
              "      <td>Yes</td>\n",
              "    </tr>\n",
              "    <tr>\n",
              "      <th>8757</th>\n",
              "      <td>30/11/2018</td>\n",
              "      <td>694</td>\n",
              "      <td>21</td>\n",
              "      <td>2.6</td>\n",
              "      <td>39</td>\n",
              "      <td>0.3</td>\n",
              "      <td>1968</td>\n",
              "      <td>-9.9</td>\n",
              "      <td>0.0</td>\n",
              "      <td>0.0</td>\n",
              "      <td>0.0</td>\n",
              "      <td>Autumn</td>\n",
              "      <td>No Holiday</td>\n",
              "      <td>Yes</td>\n",
              "    </tr>\n",
              "    <tr>\n",
              "      <th>8758</th>\n",
              "      <td>30/11/2018</td>\n",
              "      <td>712</td>\n",
              "      <td>22</td>\n",
              "      <td>2.1</td>\n",
              "      <td>41</td>\n",
              "      <td>1.0</td>\n",
              "      <td>1859</td>\n",
              "      <td>-9.8</td>\n",
              "      <td>0.0</td>\n",
              "      <td>0.0</td>\n",
              "      <td>0.0</td>\n",
              "      <td>Autumn</td>\n",
              "      <td>No Holiday</td>\n",
              "      <td>Yes</td>\n",
              "    </tr>\n",
              "    <tr>\n",
              "      <th>8759</th>\n",
              "      <td>30/11/2018</td>\n",
              "      <td>584</td>\n",
              "      <td>23</td>\n",
              "      <td>1.9</td>\n",
              "      <td>43</td>\n",
              "      <td>1.3</td>\n",
              "      <td>1909</td>\n",
              "      <td>-9.3</td>\n",
              "      <td>0.0</td>\n",
              "      <td>0.0</td>\n",
              "      <td>0.0</td>\n",
              "      <td>Autumn</td>\n",
              "      <td>No Holiday</td>\n",
              "      <td>Yes</td>\n",
              "    </tr>\n",
              "  </tbody>\n",
              "</table>\n",
              "<p>8760 rows × 14 columns</p>\n",
              "</div>\n",
              "    <div class=\"colab-df-buttons\">\n",
              "\n",
              "  <div class=\"colab-df-container\">\n",
              "    <button class=\"colab-df-convert\" onclick=\"convertToInteractive('df-20d7391c-4f81-415d-b538-568db56c534a')\"\n",
              "            title=\"Convert this dataframe to an interactive table.\"\n",
              "            style=\"display:none;\">\n",
              "\n",
              "  <svg xmlns=\"http://www.w3.org/2000/svg\" height=\"24px\" viewBox=\"0 -960 960 960\">\n",
              "    <path d=\"M120-120v-720h720v720H120Zm60-500h600v-160H180v160Zm220 220h160v-160H400v160Zm0 220h160v-160H400v160ZM180-400h160v-160H180v160Zm440 0h160v-160H620v160ZM180-180h160v-160H180v160Zm440 0h160v-160H620v160Z\"/>\n",
              "  </svg>\n",
              "    </button>\n",
              "\n",
              "  <style>\n",
              "    .colab-df-container {\n",
              "      display:flex;\n",
              "      gap: 12px;\n",
              "    }\n",
              "\n",
              "    .colab-df-convert {\n",
              "      background-color: #E8F0FE;\n",
              "      border: none;\n",
              "      border-radius: 50%;\n",
              "      cursor: pointer;\n",
              "      display: none;\n",
              "      fill: #1967D2;\n",
              "      height: 32px;\n",
              "      padding: 0 0 0 0;\n",
              "      width: 32px;\n",
              "    }\n",
              "\n",
              "    .colab-df-convert:hover {\n",
              "      background-color: #E2EBFA;\n",
              "      box-shadow: 0px 1px 2px rgba(60, 64, 67, 0.3), 0px 1px 3px 1px rgba(60, 64, 67, 0.15);\n",
              "      fill: #174EA6;\n",
              "    }\n",
              "\n",
              "    .colab-df-buttons div {\n",
              "      margin-bottom: 4px;\n",
              "    }\n",
              "\n",
              "    [theme=dark] .colab-df-convert {\n",
              "      background-color: #3B4455;\n",
              "      fill: #D2E3FC;\n",
              "    }\n",
              "\n",
              "    [theme=dark] .colab-df-convert:hover {\n",
              "      background-color: #434B5C;\n",
              "      box-shadow: 0px 1px 3px 1px rgba(0, 0, 0, 0.15);\n",
              "      filter: drop-shadow(0px 1px 2px rgba(0, 0, 0, 0.3));\n",
              "      fill: #FFFFFF;\n",
              "    }\n",
              "  </style>\n",
              "\n",
              "    <script>\n",
              "      const buttonEl =\n",
              "        document.querySelector('#df-20d7391c-4f81-415d-b538-568db56c534a button.colab-df-convert');\n",
              "      buttonEl.style.display =\n",
              "        google.colab.kernel.accessAllowed ? 'block' : 'none';\n",
              "\n",
              "      async function convertToInteractive(key) {\n",
              "        const element = document.querySelector('#df-20d7391c-4f81-415d-b538-568db56c534a');\n",
              "        const dataTable =\n",
              "          await google.colab.kernel.invokeFunction('convertToInteractive',\n",
              "                                                    [key], {});\n",
              "        if (!dataTable) return;\n",
              "\n",
              "        const docLinkHtml = 'Like what you see? Visit the ' +\n",
              "          '<a target=\"_blank\" href=https://colab.research.google.com/notebooks/data_table.ipynb>data table notebook</a>'\n",
              "          + ' to learn more about interactive tables.';\n",
              "        element.innerHTML = '';\n",
              "        dataTable['output_type'] = 'display_data';\n",
              "        await google.colab.output.renderOutput(dataTable, element);\n",
              "        const docLink = document.createElement('div');\n",
              "        docLink.innerHTML = docLinkHtml;\n",
              "        element.appendChild(docLink);\n",
              "      }\n",
              "    </script>\n",
              "  </div>\n",
              "\n",
              "\n",
              "<div id=\"df-72a7ce80-fded-4dd1-91a0-e84cb22264f9\">\n",
              "  <button class=\"colab-df-quickchart\" onclick=\"quickchart('df-72a7ce80-fded-4dd1-91a0-e84cb22264f9')\"\n",
              "            title=\"Suggest charts\"\n",
              "            style=\"display:none;\">\n",
              "\n",
              "<svg xmlns=\"http://www.w3.org/2000/svg\" height=\"24px\"viewBox=\"0 0 24 24\"\n",
              "     width=\"24px\">\n",
              "    <g>\n",
              "        <path d=\"M19 3H5c-1.1 0-2 .9-2 2v14c0 1.1.9 2 2 2h14c1.1 0 2-.9 2-2V5c0-1.1-.9-2-2-2zM9 17H7v-7h2v7zm4 0h-2V7h2v10zm4 0h-2v-4h2v4z\"/>\n",
              "    </g>\n",
              "</svg>\n",
              "  </button>\n",
              "\n",
              "<style>\n",
              "  .colab-df-quickchart {\n",
              "      --bg-color: #E8F0FE;\n",
              "      --fill-color: #1967D2;\n",
              "      --hover-bg-color: #E2EBFA;\n",
              "      --hover-fill-color: #174EA6;\n",
              "      --disabled-fill-color: #AAA;\n",
              "      --disabled-bg-color: #DDD;\n",
              "  }\n",
              "\n",
              "  [theme=dark] .colab-df-quickchart {\n",
              "      --bg-color: #3B4455;\n",
              "      --fill-color: #D2E3FC;\n",
              "      --hover-bg-color: #434B5C;\n",
              "      --hover-fill-color: #FFFFFF;\n",
              "      --disabled-bg-color: #3B4455;\n",
              "      --disabled-fill-color: #666;\n",
              "  }\n",
              "\n",
              "  .colab-df-quickchart {\n",
              "    background-color: var(--bg-color);\n",
              "    border: none;\n",
              "    border-radius: 50%;\n",
              "    cursor: pointer;\n",
              "    display: none;\n",
              "    fill: var(--fill-color);\n",
              "    height: 32px;\n",
              "    padding: 0;\n",
              "    width: 32px;\n",
              "  }\n",
              "\n",
              "  .colab-df-quickchart:hover {\n",
              "    background-color: var(--hover-bg-color);\n",
              "    box-shadow: 0 1px 2px rgba(60, 64, 67, 0.3), 0 1px 3px 1px rgba(60, 64, 67, 0.15);\n",
              "    fill: var(--button-hover-fill-color);\n",
              "  }\n",
              "\n",
              "  .colab-df-quickchart-complete:disabled,\n",
              "  .colab-df-quickchart-complete:disabled:hover {\n",
              "    background-color: var(--disabled-bg-color);\n",
              "    fill: var(--disabled-fill-color);\n",
              "    box-shadow: none;\n",
              "  }\n",
              "\n",
              "  .colab-df-spinner {\n",
              "    border: 2px solid var(--fill-color);\n",
              "    border-color: transparent;\n",
              "    border-bottom-color: var(--fill-color);\n",
              "    animation:\n",
              "      spin 1s steps(1) infinite;\n",
              "  }\n",
              "\n",
              "  @keyframes spin {\n",
              "    0% {\n",
              "      border-color: transparent;\n",
              "      border-bottom-color: var(--fill-color);\n",
              "      border-left-color: var(--fill-color);\n",
              "    }\n",
              "    20% {\n",
              "      border-color: transparent;\n",
              "      border-left-color: var(--fill-color);\n",
              "      border-top-color: var(--fill-color);\n",
              "    }\n",
              "    30% {\n",
              "      border-color: transparent;\n",
              "      border-left-color: var(--fill-color);\n",
              "      border-top-color: var(--fill-color);\n",
              "      border-right-color: var(--fill-color);\n",
              "    }\n",
              "    40% {\n",
              "      border-color: transparent;\n",
              "      border-right-color: var(--fill-color);\n",
              "      border-top-color: var(--fill-color);\n",
              "    }\n",
              "    60% {\n",
              "      border-color: transparent;\n",
              "      border-right-color: var(--fill-color);\n",
              "    }\n",
              "    80% {\n",
              "      border-color: transparent;\n",
              "      border-right-color: var(--fill-color);\n",
              "      border-bottom-color: var(--fill-color);\n",
              "    }\n",
              "    90% {\n",
              "      border-color: transparent;\n",
              "      border-bottom-color: var(--fill-color);\n",
              "    }\n",
              "  }\n",
              "</style>\n",
              "\n",
              "  <script>\n",
              "    async function quickchart(key) {\n",
              "      const quickchartButtonEl =\n",
              "        document.querySelector('#' + key + ' button');\n",
              "      quickchartButtonEl.disabled = true;  // To prevent multiple clicks.\n",
              "      quickchartButtonEl.classList.add('colab-df-spinner');\n",
              "      try {\n",
              "        const charts = await google.colab.kernel.invokeFunction(\n",
              "            'suggestCharts', [key], {});\n",
              "      } catch (error) {\n",
              "        console.error('Error during call to suggestCharts:', error);\n",
              "      }\n",
              "      quickchartButtonEl.classList.remove('colab-df-spinner');\n",
              "      quickchartButtonEl.classList.add('colab-df-quickchart-complete');\n",
              "    }\n",
              "    (() => {\n",
              "      let quickchartButtonEl =\n",
              "        document.querySelector('#df-72a7ce80-fded-4dd1-91a0-e84cb22264f9 button');\n",
              "      quickchartButtonEl.style.display =\n",
              "        google.colab.kernel.accessAllowed ? 'block' : 'none';\n",
              "    })();\n",
              "  </script>\n",
              "</div>\n",
              "\n",
              "  <div id=\"id_923bf3cb-84e7-4a03-b737-c4e0263fc3a5\">\n",
              "    <style>\n",
              "      .colab-df-generate {\n",
              "        background-color: #E8F0FE;\n",
              "        border: none;\n",
              "        border-radius: 50%;\n",
              "        cursor: pointer;\n",
              "        display: none;\n",
              "        fill: #1967D2;\n",
              "        height: 32px;\n",
              "        padding: 0 0 0 0;\n",
              "        width: 32px;\n",
              "      }\n",
              "\n",
              "      .colab-df-generate:hover {\n",
              "        background-color: #E2EBFA;\n",
              "        box-shadow: 0px 1px 2px rgba(60, 64, 67, 0.3), 0px 1px 3px 1px rgba(60, 64, 67, 0.15);\n",
              "        fill: #174EA6;\n",
              "      }\n",
              "\n",
              "      [theme=dark] .colab-df-generate {\n",
              "        background-color: #3B4455;\n",
              "        fill: #D2E3FC;\n",
              "      }\n",
              "\n",
              "      [theme=dark] .colab-df-generate:hover {\n",
              "        background-color: #434B5C;\n",
              "        box-shadow: 0px 1px 3px 1px rgba(0, 0, 0, 0.15);\n",
              "        filter: drop-shadow(0px 1px 2px rgba(0, 0, 0, 0.3));\n",
              "        fill: #FFFFFF;\n",
              "      }\n",
              "    </style>\n",
              "    <button class=\"colab-df-generate\" onclick=\"generateWithVariable('df')\"\n",
              "            title=\"Generate code using this dataframe.\"\n",
              "            style=\"display:none;\">\n",
              "\n",
              "  <svg xmlns=\"http://www.w3.org/2000/svg\" height=\"24px\"viewBox=\"0 0 24 24\"\n",
              "       width=\"24px\">\n",
              "    <path d=\"M7,19H8.4L18.45,9,17,7.55,7,17.6ZM5,21V16.75L18.45,3.32a2,2,0,0,1,2.83,0l1.4,1.43a1.91,1.91,0,0,1,.58,1.4,1.91,1.91,0,0,1-.58,1.4L9.25,21ZM18.45,9,17,7.55Zm-12,3A5.31,5.31,0,0,0,4.9,8.1,5.31,5.31,0,0,0,1,6.5,5.31,5.31,0,0,0,4.9,4.9,5.31,5.31,0,0,0,6.5,1,5.31,5.31,0,0,0,8.1,4.9,5.31,5.31,0,0,0,12,6.5,5.46,5.46,0,0,0,6.5,12Z\"/>\n",
              "  </svg>\n",
              "    </button>\n",
              "    <script>\n",
              "      (() => {\n",
              "      const buttonEl =\n",
              "        document.querySelector('#id_923bf3cb-84e7-4a03-b737-c4e0263fc3a5 button.colab-df-generate');\n",
              "      buttonEl.style.display =\n",
              "        google.colab.kernel.accessAllowed ? 'block' : 'none';\n",
              "\n",
              "      buttonEl.onclick = () => {\n",
              "        google.colab.notebook.generateWithVariable('df');\n",
              "      }\n",
              "      })();\n",
              "    </script>\n",
              "  </div>\n",
              "\n",
              "    </div>\n",
              "  </div>\n"
            ]
          },
          "metadata": {},
          "execution_count": 28
        }
      ]
    },
    {
      "cell_type": "code",
      "source": [
        "# Write your code to make your dataset analysis ready."
      ],
      "metadata": {
        "id": "wk-9a2fpoLcV"
      },
      "execution_count": null,
      "outputs": []
    },
    {
      "cell_type": "code",
      "source": [],
      "metadata": {
        "id": "3byyOya7aigu"
      },
      "execution_count": null,
      "outputs": []
    },
    {
      "cell_type": "markdown",
      "source": [
        "### What all manipulations have you done and insights you found?"
      ],
      "metadata": {
        "id": "MSa1f5Uengrz"
      }
    },
    {
      "cell_type": "markdown",
      "source": [
        "Answer Here."
      ],
      "metadata": {
        "id": "LbyXE7I1olp8"
      }
    },
    {
      "cell_type": "markdown",
      "source": [
        "## ***4. Data Vizualization, Storytelling & Experimenting with charts : Understand the relationships between variables***"
      ],
      "metadata": {
        "id": "GF8Ens_Soomf"
      }
    },
    {
      "cell_type": "markdown",
      "source": [
        "#### Chart - 1"
      ],
      "metadata": {
        "id": "0wOQAZs5pc--"
      }
    },
    {
      "cell_type": "code",
      "source": [
        "# Chart - 1 visualization code"
      ],
      "metadata": {
        "id": "7v_ESjsspbW7"
      },
      "execution_count": null,
      "outputs": []
    },
    {
      "cell_type": "markdown",
      "source": [
        "##### 1. Why did you pick the specific chart?"
      ],
      "metadata": {
        "id": "K5QZ13OEpz2H"
      }
    },
    {
      "cell_type": "markdown",
      "source": [
        "Answer Here."
      ],
      "metadata": {
        "id": "XESiWehPqBRc"
      }
    },
    {
      "cell_type": "markdown",
      "source": [
        "##### 2. What is/are the insight(s) found from the chart?"
      ],
      "metadata": {
        "id": "lQ7QKXXCp7Bj"
      }
    },
    {
      "cell_type": "markdown",
      "source": [
        "Answer Here"
      ],
      "metadata": {
        "id": "C_j1G7yiqdRP"
      }
    },
    {
      "cell_type": "markdown",
      "source": [
        "##### 3. Will the gained insights help creating a positive business impact?\n",
        "Are there any insights that lead to negative growth? Justify with specific reason."
      ],
      "metadata": {
        "id": "448CDAPjqfQr"
      }
    },
    {
      "cell_type": "markdown",
      "source": [
        "Answer Here"
      ],
      "metadata": {
        "id": "3cspy4FjqxJW"
      }
    },
    {
      "cell_type": "markdown",
      "source": [
        "#### Chart - 2"
      ],
      "metadata": {
        "id": "KSlN3yHqYklG"
      }
    },
    {
      "cell_type": "code",
      "source": [
        "# Chart - 2 visualization code"
      ],
      "metadata": {
        "id": "R4YgtaqtYklH"
      },
      "execution_count": null,
      "outputs": []
    },
    {
      "cell_type": "markdown",
      "source": [
        "##### 1. Why did you pick the specific chart?"
      ],
      "metadata": {
        "id": "t6dVpIINYklI"
      }
    },
    {
      "cell_type": "markdown",
      "source": [
        "Answer Here."
      ],
      "metadata": {
        "id": "5aaW0BYyYklI"
      }
    },
    {
      "cell_type": "markdown",
      "source": [
        "##### 2. What is/are the insight(s) found from the chart?"
      ],
      "metadata": {
        "id": "ijmpgYnKYklI"
      }
    },
    {
      "cell_type": "markdown",
      "source": [
        "Answer Here"
      ],
      "metadata": {
        "id": "PSx9atu2YklI"
      }
    },
    {
      "cell_type": "markdown",
      "source": [
        "##### 3. Will the gained insights help creating a positive business impact?\n",
        "Are there any insights that lead to negative growth? Justify with specific reason."
      ],
      "metadata": {
        "id": "-JiQyfWJYklI"
      }
    },
    {
      "cell_type": "markdown",
      "source": [
        "Answer Here"
      ],
      "metadata": {
        "id": "BcBbebzrYklV"
      }
    },
    {
      "cell_type": "markdown",
      "source": [
        "#### Chart - 3"
      ],
      "metadata": {
        "id": "EM7whBJCYoAo"
      }
    },
    {
      "cell_type": "code",
      "source": [
        "# Chart - 3 visualization code"
      ],
      "metadata": {
        "id": "t6GMdE67YoAp"
      },
      "execution_count": null,
      "outputs": []
    },
    {
      "cell_type": "markdown",
      "source": [
        "##### 1. Why did you pick the specific chart?"
      ],
      "metadata": {
        "id": "fge-S5ZAYoAp"
      }
    },
    {
      "cell_type": "markdown",
      "source": [
        "Answer Here."
      ],
      "metadata": {
        "id": "5dBItgRVYoAp"
      }
    },
    {
      "cell_type": "markdown",
      "source": [
        "##### 2. What is/are the insight(s) found from the chart?"
      ],
      "metadata": {
        "id": "85gYPyotYoAp"
      }
    },
    {
      "cell_type": "markdown",
      "source": [
        "Answer Here"
      ],
      "metadata": {
        "id": "4jstXR6OYoAp"
      }
    },
    {
      "cell_type": "markdown",
      "source": [
        "##### 3. Will the gained insights help creating a positive business impact?\n",
        "Are there any insights that lead to negative growth? Justify with specific reason."
      ],
      "metadata": {
        "id": "RoGjAbkUYoAp"
      }
    },
    {
      "cell_type": "markdown",
      "source": [
        "Answer Here"
      ],
      "metadata": {
        "id": "zfJ8IqMcYoAp"
      }
    },
    {
      "cell_type": "markdown",
      "source": [
        "#### Chart - 4"
      ],
      "metadata": {
        "id": "4Of9eVA-YrdM"
      }
    },
    {
      "cell_type": "code",
      "source": [
        "# Chart - 4 visualization code"
      ],
      "metadata": {
        "id": "irlUoxc8YrdO"
      },
      "execution_count": null,
      "outputs": []
    },
    {
      "cell_type": "markdown",
      "source": [
        "##### 1. Why did you pick the specific chart?"
      ],
      "metadata": {
        "id": "iky9q4vBYrdO"
      }
    },
    {
      "cell_type": "markdown",
      "source": [
        "Answer Here."
      ],
      "metadata": {
        "id": "aJRCwT6DYrdO"
      }
    },
    {
      "cell_type": "markdown",
      "source": [
        "##### 2. What is/are the insight(s) found from the chart?"
      ],
      "metadata": {
        "id": "F6T5p64dYrdO"
      }
    },
    {
      "cell_type": "markdown",
      "source": [
        "Answer Here"
      ],
      "metadata": {
        "id": "Xx8WAJvtYrdO"
      }
    },
    {
      "cell_type": "markdown",
      "source": [
        "##### 3. Will the gained insights help creating a positive business impact?\n",
        "Are there any insights that lead to negative growth? Justify with specific reason."
      ],
      "metadata": {
        "id": "y-Ehk30pYrdP"
      }
    },
    {
      "cell_type": "markdown",
      "source": [
        "Answer Here"
      ],
      "metadata": {
        "id": "jLNxxz7MYrdP"
      }
    },
    {
      "cell_type": "markdown",
      "source": [
        "#### Chart - 5"
      ],
      "metadata": {
        "id": "bamQiAODYuh1"
      }
    },
    {
      "cell_type": "code",
      "source": [
        "# Chart - 5 visualization code"
      ],
      "metadata": {
        "id": "TIJwrbroYuh3"
      },
      "execution_count": null,
      "outputs": []
    },
    {
      "cell_type": "markdown",
      "source": [
        "##### 1. Why did you pick the specific chart?"
      ],
      "metadata": {
        "id": "QHF8YVU7Yuh3"
      }
    },
    {
      "cell_type": "markdown",
      "source": [
        "Answer Here."
      ],
      "metadata": {
        "id": "dcxuIMRPYuh3"
      }
    },
    {
      "cell_type": "markdown",
      "source": [
        "##### 2. What is/are the insight(s) found from the chart?"
      ],
      "metadata": {
        "id": "GwzvFGzlYuh3"
      }
    },
    {
      "cell_type": "markdown",
      "source": [
        "Answer Here"
      ],
      "metadata": {
        "id": "uyqkiB8YYuh3"
      }
    },
    {
      "cell_type": "markdown",
      "source": [
        "##### 3. Will the gained insights help creating a positive business impact?\n",
        "Are there any insights that lead to negative growth? Justify with specific reason."
      ],
      "metadata": {
        "id": "qYpmQ266Yuh3"
      }
    },
    {
      "cell_type": "markdown",
      "source": [
        "Answer Here"
      ],
      "metadata": {
        "id": "_WtzZ_hCYuh4"
      }
    },
    {
      "cell_type": "markdown",
      "source": [
        "#### Chart - 6"
      ],
      "metadata": {
        "id": "OH-pJp9IphqM"
      }
    },
    {
      "cell_type": "code",
      "source": [
        "# Chart - 6 visualization code"
      ],
      "metadata": {
        "id": "kuRf4wtuphqN"
      },
      "execution_count": null,
      "outputs": []
    },
    {
      "cell_type": "markdown",
      "source": [
        "##### 1. Why did you pick the specific chart?"
      ],
      "metadata": {
        "id": "bbFf2-_FphqN"
      }
    },
    {
      "cell_type": "markdown",
      "source": [
        "Answer Here."
      ],
      "metadata": {
        "id": "loh7H2nzphqN"
      }
    },
    {
      "cell_type": "markdown",
      "source": [
        "##### 2. What is/are the insight(s) found from the chart?"
      ],
      "metadata": {
        "id": "_ouA3fa0phqN"
      }
    },
    {
      "cell_type": "markdown",
      "source": [
        "Answer Here"
      ],
      "metadata": {
        "id": "VECbqPI7phqN"
      }
    },
    {
      "cell_type": "markdown",
      "source": [
        "##### 3. Will the gained insights help creating a positive business impact?\n",
        "Are there any insights that lead to negative growth? Justify with specific reason."
      ],
      "metadata": {
        "id": "Seke61FWphqN"
      }
    },
    {
      "cell_type": "markdown",
      "source": [
        "Answer Here"
      ],
      "metadata": {
        "id": "DW4_bGpfphqN"
      }
    },
    {
      "cell_type": "markdown",
      "source": [
        "#### Chart - 7"
      ],
      "metadata": {
        "id": "PIIx-8_IphqN"
      }
    },
    {
      "cell_type": "code",
      "source": [
        "# Chart - 7 visualization code"
      ],
      "metadata": {
        "id": "lqAIGUfyphqO"
      },
      "execution_count": null,
      "outputs": []
    },
    {
      "cell_type": "markdown",
      "source": [
        "##### 1. Why did you pick the specific chart?"
      ],
      "metadata": {
        "id": "t27r6nlMphqO"
      }
    },
    {
      "cell_type": "markdown",
      "source": [
        "Answer Here."
      ],
      "metadata": {
        "id": "iv6ro40sphqO"
      }
    },
    {
      "cell_type": "markdown",
      "source": [
        "##### 2. What is/are the insight(s) found from the chart?"
      ],
      "metadata": {
        "id": "r2jJGEOYphqO"
      }
    },
    {
      "cell_type": "markdown",
      "source": [
        "Answer Here"
      ],
      "metadata": {
        "id": "Po6ZPi4hphqO"
      }
    },
    {
      "cell_type": "markdown",
      "source": [
        "##### 3. Will the gained insights help creating a positive business impact?\n",
        "Are there any insights that lead to negative growth? Justify with specific reason."
      ],
      "metadata": {
        "id": "b0JNsNcRphqO"
      }
    },
    {
      "cell_type": "markdown",
      "source": [
        "Answer Here"
      ],
      "metadata": {
        "id": "xvSq8iUTphqO"
      }
    },
    {
      "cell_type": "markdown",
      "source": [
        "#### Chart - 8"
      ],
      "metadata": {
        "id": "BZR9WyysphqO"
      }
    },
    {
      "cell_type": "code",
      "source": [
        "# Chart - 8 visualization code"
      ],
      "metadata": {
        "id": "TdPTWpAVphqO"
      },
      "execution_count": null,
      "outputs": []
    },
    {
      "cell_type": "markdown",
      "source": [
        "##### 1. Why did you pick the specific chart?"
      ],
      "metadata": {
        "id": "jj7wYXLtphqO"
      }
    },
    {
      "cell_type": "markdown",
      "source": [
        "Answer Here."
      ],
      "metadata": {
        "id": "Ob8u6rCTphqO"
      }
    },
    {
      "cell_type": "markdown",
      "source": [
        "##### 2. What is/are the insight(s) found from the chart?"
      ],
      "metadata": {
        "id": "eZrbJ2SmphqO"
      }
    },
    {
      "cell_type": "markdown",
      "source": [
        "Answer Here"
      ],
      "metadata": {
        "id": "mZtgC_hjphqO"
      }
    },
    {
      "cell_type": "markdown",
      "source": [
        "##### 3. Will the gained insights help creating a positive business impact?\n",
        "Are there any insights that lead to negative growth? Justify with specific reason."
      ],
      "metadata": {
        "id": "rFu4xreNphqO"
      }
    },
    {
      "cell_type": "markdown",
      "source": [
        "Answer Here"
      ],
      "metadata": {
        "id": "ey_0qi68phqO"
      }
    },
    {
      "cell_type": "markdown",
      "source": [
        "#### Chart - 9"
      ],
      "metadata": {
        "id": "YJ55k-q6phqO"
      }
    },
    {
      "cell_type": "code",
      "source": [
        "# Chart - 9 visualization code"
      ],
      "metadata": {
        "id": "B2aS4O1ophqO"
      },
      "execution_count": null,
      "outputs": []
    },
    {
      "cell_type": "markdown",
      "source": [
        "##### 1. Why did you pick the specific chart?"
      ],
      "metadata": {
        "id": "gCFgpxoyphqP"
      }
    },
    {
      "cell_type": "markdown",
      "source": [
        "Answer Here."
      ],
      "metadata": {
        "id": "TVxDimi2phqP"
      }
    },
    {
      "cell_type": "markdown",
      "source": [
        "##### 2. What is/are the insight(s) found from the chart?"
      ],
      "metadata": {
        "id": "OVtJsKN_phqQ"
      }
    },
    {
      "cell_type": "markdown",
      "source": [
        "Answer Here"
      ],
      "metadata": {
        "id": "ngGi97qjphqQ"
      }
    },
    {
      "cell_type": "markdown",
      "source": [
        "##### 3. Will the gained insights help creating a positive business impact?\n",
        "Are there any insights that lead to negative growth? Justify with specific reason."
      ],
      "metadata": {
        "id": "lssrdh5qphqQ"
      }
    },
    {
      "cell_type": "markdown",
      "source": [
        "Answer Here"
      ],
      "metadata": {
        "id": "tBpY5ekJphqQ"
      }
    },
    {
      "cell_type": "markdown",
      "source": [
        "#### Chart - 10"
      ],
      "metadata": {
        "id": "U2RJ9gkRphqQ"
      }
    },
    {
      "cell_type": "code",
      "source": [
        "# Chart - 10 visualization code"
      ],
      "metadata": {
        "id": "GM7a4YP4phqQ"
      },
      "execution_count": null,
      "outputs": []
    },
    {
      "cell_type": "markdown",
      "source": [
        "##### 1. Why did you pick the specific chart?"
      ],
      "metadata": {
        "id": "1M8mcRywphqQ"
      }
    },
    {
      "cell_type": "markdown",
      "source": [
        "Answer Here."
      ],
      "metadata": {
        "id": "8agQvks0phqQ"
      }
    },
    {
      "cell_type": "markdown",
      "source": [
        "##### 2. What is/are the insight(s) found from the chart?"
      ],
      "metadata": {
        "id": "tgIPom80phqQ"
      }
    },
    {
      "cell_type": "markdown",
      "source": [
        "Answer Here"
      ],
      "metadata": {
        "id": "Qp13pnNzphqQ"
      }
    },
    {
      "cell_type": "markdown",
      "source": [
        "##### 3. Will the gained insights help creating a positive business impact?\n",
        "Are there any insights that lead to negative growth? Justify with specific reason."
      ],
      "metadata": {
        "id": "JMzcOPDDphqR"
      }
    },
    {
      "cell_type": "markdown",
      "source": [
        "Answer Here"
      ],
      "metadata": {
        "id": "R4Ka1PC2phqR"
      }
    },
    {
      "cell_type": "markdown",
      "source": [
        "#### Chart - 11"
      ],
      "metadata": {
        "id": "x-EpHcCOp1ci"
      }
    },
    {
      "cell_type": "code",
      "source": [
        "# Chart - 11 visualization code"
      ],
      "metadata": {
        "id": "mAQTIvtqp1cj"
      },
      "execution_count": null,
      "outputs": []
    },
    {
      "cell_type": "markdown",
      "source": [
        "##### 1. Why did you pick the specific chart?"
      ],
      "metadata": {
        "id": "X_VqEhTip1ck"
      }
    },
    {
      "cell_type": "markdown",
      "source": [
        "Answer Here."
      ],
      "metadata": {
        "id": "-vsMzt_np1ck"
      }
    },
    {
      "cell_type": "markdown",
      "source": [
        "##### 2. What is/are the insight(s) found from the chart?"
      ],
      "metadata": {
        "id": "8zGJKyg5p1ck"
      }
    },
    {
      "cell_type": "markdown",
      "source": [
        "Answer Here"
      ],
      "metadata": {
        "id": "ZYdMsrqVp1ck"
      }
    },
    {
      "cell_type": "markdown",
      "source": [
        "##### 3. Will the gained insights help creating a positive business impact?\n",
        "Are there any insights that lead to negative growth? Justify with specific reason."
      ],
      "metadata": {
        "id": "PVzmfK_Ep1ck"
      }
    },
    {
      "cell_type": "markdown",
      "source": [
        "Answer Here"
      ],
      "metadata": {
        "id": "druuKYZpp1ck"
      }
    },
    {
      "cell_type": "markdown",
      "source": [
        "#### Chart - 12"
      ],
      "metadata": {
        "id": "n3dbpmDWp1ck"
      }
    },
    {
      "cell_type": "code",
      "source": [
        "# Chart - 12 visualization code"
      ],
      "metadata": {
        "id": "bwevp1tKp1ck"
      },
      "execution_count": null,
      "outputs": []
    },
    {
      "cell_type": "markdown",
      "source": [
        "##### 1. Why did you pick the specific chart?"
      ],
      "metadata": {
        "id": "ylSl6qgtp1ck"
      }
    },
    {
      "cell_type": "markdown",
      "source": [
        "Answer Here."
      ],
      "metadata": {
        "id": "m2xqNkiQp1ck"
      }
    },
    {
      "cell_type": "markdown",
      "source": [
        "##### 2. What is/are the insight(s) found from the chart?"
      ],
      "metadata": {
        "id": "ZWILFDl5p1ck"
      }
    },
    {
      "cell_type": "markdown",
      "source": [
        "Answer Here"
      ],
      "metadata": {
        "id": "x-lUsV2mp1ck"
      }
    },
    {
      "cell_type": "markdown",
      "source": [
        "##### 3. Will the gained insights help creating a positive business impact?\n",
        "Are there any insights that lead to negative growth? Justify with specific reason."
      ],
      "metadata": {
        "id": "M7G43BXep1ck"
      }
    },
    {
      "cell_type": "markdown",
      "source": [
        "Answer Here"
      ],
      "metadata": {
        "id": "5wwDJXsLp1cl"
      }
    },
    {
      "cell_type": "markdown",
      "source": [
        "#### Chart - 13"
      ],
      "metadata": {
        "id": "Ag9LCva-p1cl"
      }
    },
    {
      "cell_type": "code",
      "source": [
        "# Chart - 13 visualization code"
      ],
      "metadata": {
        "id": "EUfxeq9-p1cl"
      },
      "execution_count": null,
      "outputs": []
    },
    {
      "cell_type": "markdown",
      "source": [
        "##### 1. Why did you pick the specific chart?"
      ],
      "metadata": {
        "id": "E6MkPsBcp1cl"
      }
    },
    {
      "cell_type": "markdown",
      "source": [
        "Answer Here."
      ],
      "metadata": {
        "id": "V22bRsFWp1cl"
      }
    },
    {
      "cell_type": "markdown",
      "source": [
        "##### 2. What is/are the insight(s) found from the chart?"
      ],
      "metadata": {
        "id": "2cELzS2fp1cl"
      }
    },
    {
      "cell_type": "markdown",
      "source": [
        "Answer Here"
      ],
      "metadata": {
        "id": "ozQPc2_Ip1cl"
      }
    },
    {
      "cell_type": "markdown",
      "source": [
        "##### 3. Will the gained insights help creating a positive business impact?\n",
        "Are there any insights that lead to negative growth? Justify with specific reason."
      ],
      "metadata": {
        "id": "3MPXvC8up1cl"
      }
    },
    {
      "cell_type": "markdown",
      "source": [
        "Answer Here"
      ],
      "metadata": {
        "id": "GL8l1tdLp1cl"
      }
    },
    {
      "cell_type": "markdown",
      "source": [
        "#### Chart - 14 - Correlation Heatmap"
      ],
      "metadata": {
        "id": "NC_X3p0fY2L0"
      }
    },
    {
      "cell_type": "code",
      "source": [
        "# Correlation Heatmap visualization code"
      ],
      "metadata": {
        "id": "xyC9zolEZNRQ"
      },
      "execution_count": null,
      "outputs": []
    },
    {
      "cell_type": "markdown",
      "source": [
        "##### 1. Why did you pick the specific chart?"
      ],
      "metadata": {
        "id": "UV0SzAkaZNRQ"
      }
    },
    {
      "cell_type": "markdown",
      "source": [
        "Answer Here."
      ],
      "metadata": {
        "id": "DVPuT8LYZNRQ"
      }
    },
    {
      "cell_type": "markdown",
      "source": [
        "##### 2. What is/are the insight(s) found from the chart?"
      ],
      "metadata": {
        "id": "YPEH6qLeZNRQ"
      }
    },
    {
      "cell_type": "markdown",
      "source": [
        "Answer Here"
      ],
      "metadata": {
        "id": "bfSqtnDqZNRR"
      }
    },
    {
      "cell_type": "markdown",
      "source": [
        "#### Chart - 15 - Pair Plot"
      ],
      "metadata": {
        "id": "q29F0dvdveiT"
      }
    },
    {
      "cell_type": "code",
      "source": [
        "# Pair Plot visualization code"
      ],
      "metadata": {
        "id": "o58-TEIhveiU"
      },
      "execution_count": null,
      "outputs": []
    },
    {
      "cell_type": "markdown",
      "source": [
        "##### 1. Why did you pick the specific chart?"
      ],
      "metadata": {
        "id": "EXh0U9oCveiU"
      }
    },
    {
      "cell_type": "markdown",
      "source": [
        "Answer Here."
      ],
      "metadata": {
        "id": "eMmPjTByveiU"
      }
    },
    {
      "cell_type": "markdown",
      "source": [
        "##### 2. What is/are the insight(s) found from the chart?"
      ],
      "metadata": {
        "id": "22aHeOlLveiV"
      }
    },
    {
      "cell_type": "markdown",
      "source": [
        "Answer Here"
      ],
      "metadata": {
        "id": "uPQ8RGwHveiV"
      }
    },
    {
      "cell_type": "markdown",
      "source": [
        "## ***5. Hypothesis Testing***"
      ],
      "metadata": {
        "id": "g-ATYxFrGrvw"
      }
    },
    {
      "cell_type": "markdown",
      "source": [
        "### Based on your chart experiments, define three hypothetical statements from the dataset. In the next three questions, perform hypothesis testing to obtain final conclusion about the statements through your code and statistical testing."
      ],
      "metadata": {
        "id": "Yfr_Vlr8HBkt"
      }
    },
    {
      "cell_type": "markdown",
      "source": [
        "Answer Here."
      ],
      "metadata": {
        "id": "-7MS06SUHkB-"
      }
    },
    {
      "cell_type": "markdown",
      "source": [
        "### Hypothetical Statement - 1"
      ],
      "metadata": {
        "id": "8yEUt7NnHlrM"
      }
    },
    {
      "cell_type": "markdown",
      "source": [
        "#### 1. State Your research hypothesis as a null hypothesis and alternate hypothesis."
      ],
      "metadata": {
        "id": "tEA2Xm5dHt1r"
      }
    },
    {
      "cell_type": "markdown",
      "source": [
        "Answer Here."
      ],
      "metadata": {
        "id": "HI9ZP0laH0D-"
      }
    },
    {
      "cell_type": "markdown",
      "source": [
        "#### 2. Perform an appropriate statistical test."
      ],
      "metadata": {
        "id": "I79__PHVH19G"
      }
    },
    {
      "cell_type": "code",
      "source": [
        "# Perform Statistical Test to obtain P-Value"
      ],
      "metadata": {
        "id": "oZrfquKtyian"
      },
      "execution_count": null,
      "outputs": []
    },
    {
      "cell_type": "markdown",
      "source": [
        "##### Which statistical test have you done to obtain P-Value?"
      ],
      "metadata": {
        "id": "Ou-I18pAyIpj"
      }
    },
    {
      "cell_type": "markdown",
      "source": [
        "Answer Here."
      ],
      "metadata": {
        "id": "s2U0kk00ygSB"
      }
    },
    {
      "cell_type": "markdown",
      "source": [
        "##### Why did you choose the specific statistical test?"
      ],
      "metadata": {
        "id": "fF3858GYyt-u"
      }
    },
    {
      "cell_type": "markdown",
      "source": [
        "Answer Here."
      ],
      "metadata": {
        "id": "HO4K0gP5y3B4"
      }
    },
    {
      "cell_type": "markdown",
      "source": [
        "### Hypothetical Statement - 2"
      ],
      "metadata": {
        "id": "4_0_7-oCpUZd"
      }
    },
    {
      "cell_type": "markdown",
      "source": [
        "#### 1. State Your research hypothesis as a null hypothesis and alternate hypothesis."
      ],
      "metadata": {
        "id": "hwyV_J3ipUZe"
      }
    },
    {
      "cell_type": "markdown",
      "source": [
        "Answer Here."
      ],
      "metadata": {
        "id": "FnpLGJ-4pUZe"
      }
    },
    {
      "cell_type": "markdown",
      "source": [
        "#### 2. Perform an appropriate statistical test."
      ],
      "metadata": {
        "id": "3yB-zSqbpUZe"
      }
    },
    {
      "cell_type": "code",
      "source": [
        "# Perform Statistical Test to obtain P-Value"
      ],
      "metadata": {
        "id": "sWxdNTXNpUZe"
      },
      "execution_count": null,
      "outputs": []
    },
    {
      "cell_type": "markdown",
      "source": [
        "##### Which statistical test have you done to obtain P-Value?"
      ],
      "metadata": {
        "id": "dEUvejAfpUZe"
      }
    },
    {
      "cell_type": "markdown",
      "source": [
        "Answer Here."
      ],
      "metadata": {
        "id": "oLDrPz7HpUZf"
      }
    },
    {
      "cell_type": "markdown",
      "source": [
        "##### Why did you choose the specific statistical test?"
      ],
      "metadata": {
        "id": "Fd15vwWVpUZf"
      }
    },
    {
      "cell_type": "markdown",
      "source": [
        "Answer Here."
      ],
      "metadata": {
        "id": "4xOGYyiBpUZf"
      }
    },
    {
      "cell_type": "markdown",
      "source": [
        "### Hypothetical Statement - 3"
      ],
      "metadata": {
        "id": "bn_IUdTipZyH"
      }
    },
    {
      "cell_type": "markdown",
      "source": [
        "#### 1. State Your research hypothesis as a null hypothesis and alternate hypothesis."
      ],
      "metadata": {
        "id": "49K5P_iCpZyH"
      }
    },
    {
      "cell_type": "markdown",
      "source": [
        "Answer Here."
      ],
      "metadata": {
        "id": "7gWI5rT9pZyH"
      }
    },
    {
      "cell_type": "markdown",
      "source": [
        "#### 2. Perform an appropriate statistical test."
      ],
      "metadata": {
        "id": "Nff-vKELpZyI"
      }
    },
    {
      "cell_type": "code",
      "source": [
        "# Perform Statistical Test to obtain P-Value"
      ],
      "metadata": {
        "id": "s6AnJQjtpZyI"
      },
      "execution_count": null,
      "outputs": []
    },
    {
      "cell_type": "markdown",
      "source": [
        "##### Which statistical test have you done to obtain P-Value?"
      ],
      "metadata": {
        "id": "kLW572S8pZyI"
      }
    },
    {
      "cell_type": "markdown",
      "source": [
        "Answer Here."
      ],
      "metadata": {
        "id": "ytWJ8v15pZyI"
      }
    },
    {
      "cell_type": "markdown",
      "source": [
        "##### Why did you choose the specific statistical test?"
      ],
      "metadata": {
        "id": "dWbDXHzopZyI"
      }
    },
    {
      "cell_type": "markdown",
      "source": [
        "Answer Here."
      ],
      "metadata": {
        "id": "M99G98V6pZyI"
      }
    },
    {
      "cell_type": "markdown",
      "source": [
        "## ***6. Feature Engineering & Data Pre-processing***"
      ],
      "metadata": {
        "id": "yLjJCtPM0KBk"
      }
    },
    {
      "cell_type": "markdown",
      "source": [
        "### 1. Handling Missing Values"
      ],
      "metadata": {
        "id": "xiyOF9F70UgQ"
      }
    },
    {
      "cell_type": "code",
      "source": [
        "# Handling Missing Values & Missing Value Imputation"
      ],
      "metadata": {
        "id": "iRsAHk1K0fpS"
      },
      "execution_count": null,
      "outputs": []
    },
    {
      "cell_type": "markdown",
      "source": [
        "#### What all missing value imputation techniques have you used and why did you use those techniques?"
      ],
      "metadata": {
        "id": "7wuGOrhz0itI"
      }
    },
    {
      "cell_type": "markdown",
      "source": [
        "Answer Here."
      ],
      "metadata": {
        "id": "1ixusLtI0pqI"
      }
    },
    {
      "cell_type": "markdown",
      "source": [
        "### 2. Handling Outliers"
      ],
      "metadata": {
        "id": "id1riN9m0vUs"
      }
    },
    {
      "cell_type": "code",
      "source": [
        "# Handling Outliers & Outlier treatments"
      ],
      "metadata": {
        "id": "M6w2CzZf04JK"
      },
      "execution_count": null,
      "outputs": []
    },
    {
      "cell_type": "markdown",
      "source": [
        "##### What all outlier treatment techniques have you used and why did you use those techniques?"
      ],
      "metadata": {
        "id": "578E2V7j08f6"
      }
    },
    {
      "cell_type": "markdown",
      "source": [
        "Answer Here."
      ],
      "metadata": {
        "id": "uGZz5OrT1HH-"
      }
    },
    {
      "cell_type": "markdown",
      "source": [
        "### 3. Categorical Encoding"
      ],
      "metadata": {
        "id": "89xtkJwZ18nB"
      }
    },
    {
      "cell_type": "code",
      "source": [
        "# Encode your categorical columns"
      ],
      "metadata": {
        "id": "21JmIYMG2hEo"
      },
      "execution_count": null,
      "outputs": []
    },
    {
      "cell_type": "markdown",
      "source": [
        "#### What all categorical encoding techniques have you used & why did you use those techniques?"
      ],
      "metadata": {
        "id": "67NQN5KX2AMe"
      }
    },
    {
      "cell_type": "markdown",
      "source": [
        "Answer Here."
      ],
      "metadata": {
        "id": "UDaue5h32n_G"
      }
    },
    {
      "cell_type": "markdown",
      "source": [
        "### 4. Textual Data Preprocessing\n",
        "(It's mandatory for textual dataset i.e., NLP, Sentiment Analysis, Text Clustering etc.)"
      ],
      "metadata": {
        "id": "Iwf50b-R2tYG"
      }
    },
    {
      "cell_type": "markdown",
      "source": [
        "#### 1. Expand Contraction"
      ],
      "metadata": {
        "id": "GMQiZwjn3iu7"
      }
    },
    {
      "cell_type": "code",
      "source": [
        "# Expand Contraction"
      ],
      "metadata": {
        "id": "PTouz10C3oNN"
      },
      "execution_count": null,
      "outputs": []
    },
    {
      "cell_type": "markdown",
      "source": [
        "#### 2. Lower Casing"
      ],
      "metadata": {
        "id": "WVIkgGqN3qsr"
      }
    },
    {
      "cell_type": "code",
      "source": [
        "# Lower Casing"
      ],
      "metadata": {
        "id": "88JnJ1jN3w7j"
      },
      "execution_count": null,
      "outputs": []
    },
    {
      "cell_type": "markdown",
      "source": [
        "#### 3. Removing Punctuations"
      ],
      "metadata": {
        "id": "XkPnILGE3zoT"
      }
    },
    {
      "cell_type": "code",
      "source": [
        "# Remove Punctuations"
      ],
      "metadata": {
        "id": "vqbBqNaA33c0"
      },
      "execution_count": null,
      "outputs": []
    },
    {
      "cell_type": "markdown",
      "source": [
        "#### 4. Removing URLs & Removing words and digits contain digits."
      ],
      "metadata": {
        "id": "Hlsf0x5436Go"
      }
    },
    {
      "cell_type": "code",
      "source": [
        "# Remove URLs & Remove words and digits contain digits"
      ],
      "metadata": {
        "id": "2sxKgKxu4Ip3"
      },
      "execution_count": null,
      "outputs": []
    },
    {
      "cell_type": "markdown",
      "source": [
        "#### 5. Removing Stopwords & Removing White spaces"
      ],
      "metadata": {
        "id": "mT9DMSJo4nBL"
      }
    },
    {
      "cell_type": "code",
      "source": [
        "# Remove Stopwords"
      ],
      "metadata": {
        "id": "T2LSJh154s8W"
      },
      "execution_count": null,
      "outputs": []
    },
    {
      "cell_type": "code",
      "source": [
        "# Remove White spaces"
      ],
      "metadata": {
        "id": "EgLJGffy4vm0"
      },
      "execution_count": null,
      "outputs": []
    },
    {
      "cell_type": "markdown",
      "source": [
        "#### 6. Rephrase Text"
      ],
      "metadata": {
        "id": "c49ITxTc407N"
      }
    },
    {
      "cell_type": "code",
      "source": [
        "# Rephrase Text"
      ],
      "metadata": {
        "id": "foqY80Qu48N2"
      },
      "execution_count": null,
      "outputs": []
    },
    {
      "cell_type": "markdown",
      "source": [
        "#### 7. Tokenization"
      ],
      "metadata": {
        "id": "OeJFEK0N496M"
      }
    },
    {
      "cell_type": "code",
      "source": [
        "# Tokenization"
      ],
      "metadata": {
        "id": "ijx1rUOS5CUU"
      },
      "execution_count": null,
      "outputs": []
    },
    {
      "cell_type": "markdown",
      "source": [
        "#### 8. Text Normalization"
      ],
      "metadata": {
        "id": "9ExmJH0g5HBk"
      }
    },
    {
      "cell_type": "code",
      "source": [
        "# Normalizing Text (i.e., Stemming, Lemmatization etc.)"
      ],
      "metadata": {
        "id": "AIJ1a-Zc5PY8"
      },
      "execution_count": null,
      "outputs": []
    },
    {
      "cell_type": "markdown",
      "source": [
        "##### Which text normalization technique have you used and why?"
      ],
      "metadata": {
        "id": "cJNqERVU536h"
      }
    },
    {
      "cell_type": "markdown",
      "source": [
        "Answer Here."
      ],
      "metadata": {
        "id": "Z9jKVxE06BC1"
      }
    },
    {
      "cell_type": "markdown",
      "source": [
        "#### 9. Part of speech tagging"
      ],
      "metadata": {
        "id": "k5UmGsbsOxih"
      }
    },
    {
      "cell_type": "code",
      "source": [
        "# POS Taging"
      ],
      "metadata": {
        "id": "btT3ZJBAO6Ik"
      },
      "execution_count": null,
      "outputs": []
    },
    {
      "cell_type": "markdown",
      "source": [
        "#### 10. Text Vectorization"
      ],
      "metadata": {
        "id": "T0VqWOYE6DLQ"
      }
    },
    {
      "cell_type": "code",
      "source": [
        "# Vectorizing Text"
      ],
      "metadata": {
        "id": "yBRtdhth6JDE"
      },
      "execution_count": null,
      "outputs": []
    },
    {
      "cell_type": "markdown",
      "source": [
        "##### Which text vectorization technique have you used and why?"
      ],
      "metadata": {
        "id": "qBMux9mC6MCf"
      }
    },
    {
      "cell_type": "markdown",
      "source": [
        "Answer Here."
      ],
      "metadata": {
        "id": "su2EnbCh6UKQ"
      }
    },
    {
      "cell_type": "markdown",
      "source": [
        "### 4. Feature Manipulation & Selection"
      ],
      "metadata": {
        "id": "-oLEiFgy-5Pf"
      }
    },
    {
      "cell_type": "markdown",
      "source": [
        "#### 1. Feature Manipulation"
      ],
      "metadata": {
        "id": "C74aWNz2AliB"
      }
    },
    {
      "cell_type": "code",
      "source": [
        "# Manipulate Features to minimize feature correlation and create new features"
      ],
      "metadata": {
        "id": "h1qC4yhBApWC"
      },
      "execution_count": null,
      "outputs": []
    },
    {
      "cell_type": "markdown",
      "source": [
        "#### 2. Feature Selection"
      ],
      "metadata": {
        "id": "2DejudWSA-a0"
      }
    },
    {
      "cell_type": "code",
      "source": [
        "# Select your features wisely to avoid overfitting"
      ],
      "metadata": {
        "id": "YLhe8UmaBCEE"
      },
      "execution_count": null,
      "outputs": []
    },
    {
      "cell_type": "markdown",
      "source": [
        "##### What all feature selection methods have you used  and why?"
      ],
      "metadata": {
        "id": "pEMng2IbBLp7"
      }
    },
    {
      "cell_type": "markdown",
      "source": [
        "Answer Here."
      ],
      "metadata": {
        "id": "rb2Lh6Z8BgGs"
      }
    },
    {
      "cell_type": "markdown",
      "source": [
        "##### Which all features you found important and why?"
      ],
      "metadata": {
        "id": "rAdphbQ9Bhjc"
      }
    },
    {
      "cell_type": "markdown",
      "source": [
        "Answer Here."
      ],
      "metadata": {
        "id": "fGgaEstsBnaf"
      }
    },
    {
      "cell_type": "markdown",
      "source": [
        "### 5. Data Transformation"
      ],
      "metadata": {
        "id": "TNVZ9zx19K6k"
      }
    },
    {
      "cell_type": "markdown",
      "source": [
        "#### Do you think that your data needs to be transformed? If yes, which transformation have you used. Explain Why?"
      ],
      "metadata": {
        "id": "nqoHp30x9hH9"
      }
    },
    {
      "cell_type": "code",
      "source": [
        "# Transform Your data"
      ],
      "metadata": {
        "id": "I6quWQ1T9rtH"
      },
      "execution_count": null,
      "outputs": []
    },
    {
      "cell_type": "markdown",
      "source": [
        "### 6. Data Scaling"
      ],
      "metadata": {
        "id": "rMDnDkt2B6du"
      }
    },
    {
      "cell_type": "code",
      "source": [
        "# Scaling your data"
      ],
      "metadata": {
        "id": "dL9LWpySC6x_"
      },
      "execution_count": null,
      "outputs": []
    },
    {
      "cell_type": "markdown",
      "source": [
        "##### Which method have you used to scale you data and why?"
      ],
      "metadata": {
        "id": "yiiVWRdJDDil"
      }
    },
    {
      "cell_type": "markdown",
      "source": [
        "### 7. Dimesionality Reduction"
      ],
      "metadata": {
        "id": "1UUpS68QDMuG"
      }
    },
    {
      "cell_type": "markdown",
      "source": [
        "##### Do you think that dimensionality reduction is needed? Explain Why?"
      ],
      "metadata": {
        "id": "kexQrXU-DjzY"
      }
    },
    {
      "cell_type": "markdown",
      "source": [
        "Answer Here."
      ],
      "metadata": {
        "id": "GGRlBsSGDtTQ"
      }
    },
    {
      "cell_type": "code",
      "source": [
        "# DImensionality Reduction (If needed)"
      ],
      "metadata": {
        "id": "kQfvxBBHDvCa"
      },
      "execution_count": null,
      "outputs": []
    },
    {
      "cell_type": "markdown",
      "source": [
        "##### Which dimensionality reduction technique have you used and why? (If dimensionality reduction done on dataset.)"
      ],
      "metadata": {
        "id": "T5CmagL3EC8N"
      }
    },
    {
      "cell_type": "markdown",
      "source": [
        "Answer Here."
      ],
      "metadata": {
        "id": "ZKr75IDuEM7t"
      }
    },
    {
      "cell_type": "markdown",
      "source": [
        "### 8. Data Splitting"
      ],
      "metadata": {
        "id": "BhH2vgX9EjGr"
      }
    },
    {
      "cell_type": "code",
      "source": [
        "# Split your data to train and test. Choose Splitting ratio wisely."
      ],
      "metadata": {
        "id": "0CTyd2UwEyNM"
      },
      "execution_count": null,
      "outputs": []
    },
    {
      "cell_type": "markdown",
      "source": [
        "##### What data splitting ratio have you used and why?"
      ],
      "metadata": {
        "id": "qjKvONjwE8ra"
      }
    },
    {
      "cell_type": "markdown",
      "source": [
        "Answer Here."
      ],
      "metadata": {
        "id": "Y2lJ8cobFDb_"
      }
    },
    {
      "cell_type": "markdown",
      "source": [
        "### 9. Handling Imbalanced Dataset"
      ],
      "metadata": {
        "id": "P1XJ9OREExlT"
      }
    },
    {
      "cell_type": "markdown",
      "source": [
        "##### Do you think the dataset is imbalanced? Explain Why."
      ],
      "metadata": {
        "id": "VFOzZv6IFROw"
      }
    },
    {
      "cell_type": "markdown",
      "source": [
        "Answer Here."
      ],
      "metadata": {
        "id": "GeKDIv7pFgcC"
      }
    },
    {
      "cell_type": "code",
      "source": [
        "# Handling Imbalanced Dataset (If needed)"
      ],
      "metadata": {
        "id": "nQsRhhZLFiDs"
      },
      "execution_count": null,
      "outputs": []
    },
    {
      "cell_type": "markdown",
      "source": [
        "##### What technique did you use to handle the imbalance dataset and why? (If needed to be balanced)"
      ],
      "metadata": {
        "id": "TIqpNgepFxVj"
      }
    },
    {
      "cell_type": "markdown",
      "source": [
        "Answer Here."
      ],
      "metadata": {
        "id": "qbet1HwdGDTz"
      }
    },
    {
      "cell_type": "markdown",
      "source": [
        "## ***7. ML Model Implementation***"
      ],
      "metadata": {
        "id": "VfCC591jGiD4"
      }
    },
    {
      "cell_type": "markdown",
      "source": [
        "### ML Model - 1"
      ],
      "metadata": {
        "id": "OB4l2ZhMeS1U"
      }
    },
    {
      "cell_type": "code",
      "source": [
        "# ML Model - 1 Implementation\n",
        "\n",
        "# Fit the Algorithm\n",
        "\n",
        "# Predict on the model"
      ],
      "metadata": {
        "id": "7ebyywQieS1U"
      },
      "execution_count": null,
      "outputs": []
    },
    {
      "cell_type": "markdown",
      "source": [
        "#### 1. Explain the ML Model used and it's performance using Evaluation metric Score Chart."
      ],
      "metadata": {
        "id": "ArJBuiUVfxKd"
      }
    },
    {
      "cell_type": "code",
      "source": [
        "# Visualizing evaluation Metric Score chart"
      ],
      "metadata": {
        "id": "rqD5ZohzfxKe"
      },
      "execution_count": null,
      "outputs": []
    },
    {
      "cell_type": "markdown",
      "source": [
        "#### 2. Cross- Validation & Hyperparameter Tuning"
      ],
      "metadata": {
        "id": "4qY1EAkEfxKe"
      }
    },
    {
      "cell_type": "code",
      "source": [
        "# ML Model - 1 Implementation with hyperparameter optimization techniques (i.e., GridSearch CV, RandomSearch CV, Bayesian Optimization etc.)\n",
        "\n",
        "# Fit the Algorithm\n",
        "\n",
        "# Predict on the model"
      ],
      "metadata": {
        "id": "Dy61ujd6fxKe"
      },
      "execution_count": null,
      "outputs": []
    },
    {
      "cell_type": "markdown",
      "source": [
        "##### Which hyperparameter optimization technique have you used and why?"
      ],
      "metadata": {
        "id": "PiV4Ypx8fxKe"
      }
    },
    {
      "cell_type": "markdown",
      "source": [
        "Answer Here."
      ],
      "metadata": {
        "id": "negyGRa7fxKf"
      }
    },
    {
      "cell_type": "markdown",
      "source": [
        "##### Have you seen any improvement? Note down the improvement with updates Evaluation metric Score Chart."
      ],
      "metadata": {
        "id": "TfvqoZmBfxKf"
      }
    },
    {
      "cell_type": "markdown",
      "source": [
        "Answer Here."
      ],
      "metadata": {
        "id": "OaLui8CcfxKf"
      }
    },
    {
      "cell_type": "markdown",
      "source": [
        "### ML Model - 2"
      ],
      "metadata": {
        "id": "dJ2tPlVmpsJ0"
      }
    },
    {
      "cell_type": "markdown",
      "source": [
        "#### 1. Explain the ML Model used and it's performance using Evaluation metric Score Chart."
      ],
      "metadata": {
        "id": "JWYfwnehpsJ1"
      }
    },
    {
      "cell_type": "code",
      "source": [
        "# Visualizing evaluation Metric Score chart"
      ],
      "metadata": {
        "id": "yEl-hgQWpsJ1"
      },
      "execution_count": null,
      "outputs": []
    },
    {
      "cell_type": "markdown",
      "source": [
        "#### 2. Cross- Validation & Hyperparameter Tuning"
      ],
      "metadata": {
        "id": "-jK_YjpMpsJ2"
      }
    },
    {
      "cell_type": "code",
      "source": [
        "# ML Model - 1 Implementation with hyperparameter optimization techniques (i.e., GridSearch CV, RandomSearch CV, Bayesian Optimization etc.)\n",
        "\n",
        "# Fit the Algorithm\n",
        "\n",
        "# Predict on the model"
      ],
      "metadata": {
        "id": "Dn0EOfS6psJ2"
      },
      "execution_count": null,
      "outputs": []
    },
    {
      "cell_type": "markdown",
      "source": [
        "##### Which hyperparameter optimization technique have you used and why?"
      ],
      "metadata": {
        "id": "HAih1iBOpsJ2"
      }
    },
    {
      "cell_type": "markdown",
      "source": [
        "Answer Here."
      ],
      "metadata": {
        "id": "9kBgjYcdpsJ2"
      }
    },
    {
      "cell_type": "markdown",
      "source": [
        "##### Have you seen any improvement? Note down the improvement with updates Evaluation metric Score Chart."
      ],
      "metadata": {
        "id": "zVGeBEFhpsJ2"
      }
    },
    {
      "cell_type": "markdown",
      "source": [
        "Answer Here."
      ],
      "metadata": {
        "id": "74yRdG6UpsJ3"
      }
    },
    {
      "cell_type": "markdown",
      "source": [
        "#### 3. Explain each evaluation metric's indication towards business and the business impact pf the ML model used."
      ],
      "metadata": {
        "id": "bmKjuQ-FpsJ3"
      }
    },
    {
      "cell_type": "markdown",
      "source": [
        "Answer Here."
      ],
      "metadata": {
        "id": "BDKtOrBQpsJ3"
      }
    },
    {
      "cell_type": "markdown",
      "source": [
        "### ML Model - 3"
      ],
      "metadata": {
        "id": "Fze-IPXLpx6K"
      }
    },
    {
      "cell_type": "code",
      "source": [
        "# ML Model - 3 Implementation\n",
        "\n",
        "# Fit the Algorithm\n",
        "\n",
        "# Predict on the model"
      ],
      "metadata": {
        "id": "FFrSXAtrpx6M"
      },
      "execution_count": null,
      "outputs": []
    },
    {
      "cell_type": "markdown",
      "source": [
        "#### 1. Explain the ML Model used and it's performance using Evaluation metric Score Chart."
      ],
      "metadata": {
        "id": "7AN1z2sKpx6M"
      }
    },
    {
      "cell_type": "code",
      "source": [
        "# Visualizing evaluation Metric Score chart"
      ],
      "metadata": {
        "id": "xIY4lxxGpx6M"
      },
      "execution_count": null,
      "outputs": []
    },
    {
      "cell_type": "markdown",
      "source": [
        "#### 2. Cross- Validation & Hyperparameter Tuning"
      ],
      "metadata": {
        "id": "9PIHJqyupx6M"
      }
    },
    {
      "cell_type": "code",
      "source": [
        "# ML Model - 3 Implementation with hyperparameter optimization techniques (i.e., GridSearch CV, RandomSearch CV, Bayesian Optimization etc.)\n",
        "\n",
        "# Fit the Algorithm\n",
        "\n",
        "# Predict on the model"
      ],
      "metadata": {
        "id": "eSVXuaSKpx6M"
      },
      "execution_count": null,
      "outputs": []
    },
    {
      "cell_type": "markdown",
      "source": [
        "##### Which hyperparameter optimization technique have you used and why?"
      ],
      "metadata": {
        "id": "_-qAgymDpx6N"
      }
    },
    {
      "cell_type": "markdown",
      "source": [
        "Answer Here."
      ],
      "metadata": {
        "id": "lQMffxkwpx6N"
      }
    },
    {
      "cell_type": "markdown",
      "source": [
        "##### Have you seen any improvement? Note down the improvement with updates Evaluation metric Score Chart."
      ],
      "metadata": {
        "id": "Z-hykwinpx6N"
      }
    },
    {
      "cell_type": "markdown",
      "source": [
        "Answer Here."
      ],
      "metadata": {
        "id": "MzVzZC6opx6N"
      }
    },
    {
      "cell_type": "markdown",
      "source": [
        "### 1. Which Evaluation metrics did you consider for a positive business impact and why?"
      ],
      "metadata": {
        "id": "h_CCil-SKHpo"
      }
    },
    {
      "cell_type": "markdown",
      "source": [
        "Answer Here."
      ],
      "metadata": {
        "id": "jHVz9hHDKFms"
      }
    },
    {
      "cell_type": "markdown",
      "source": [
        "### 2. Which ML model did you choose from the above created models as your final prediction model and why?"
      ],
      "metadata": {
        "id": "cBFFvTBNJzUa"
      }
    },
    {
      "cell_type": "markdown",
      "source": [
        "Answer Here."
      ],
      "metadata": {
        "id": "6ksF5Q1LKTVm"
      }
    },
    {
      "cell_type": "markdown",
      "source": [
        "### 3. Explain the model which you have used and the feature importance using any model explainability tool?"
      ],
      "metadata": {
        "id": "HvGl1hHyA_VK"
      }
    },
    {
      "cell_type": "markdown",
      "source": [
        "Answer Here."
      ],
      "metadata": {
        "id": "YnvVTiIxBL-C"
      }
    },
    {
      "cell_type": "markdown",
      "source": [
        "## ***8.*** ***Future Work (Optional)***"
      ],
      "metadata": {
        "id": "EyNgTHvd2WFk"
      }
    },
    {
      "cell_type": "markdown",
      "source": [
        "### 1. Save the best performing ml model in a pickle file or joblib file format for deployment process.\n"
      ],
      "metadata": {
        "id": "KH5McJBi2d8v"
      }
    },
    {
      "cell_type": "code",
      "source": [
        "# Save the File"
      ],
      "metadata": {
        "id": "bQIANRl32f4J"
      },
      "execution_count": null,
      "outputs": []
    },
    {
      "cell_type": "markdown",
      "source": [
        "### 2. Again Load the saved model file and try to predict unseen data for a sanity check.\n"
      ],
      "metadata": {
        "id": "iW_Lq9qf2h6X"
      }
    },
    {
      "cell_type": "code",
      "source": [
        "# Load the File and predict unseen data."
      ],
      "metadata": {
        "id": "oEXk9ydD2nVC"
      },
      "execution_count": null,
      "outputs": []
    },
    {
      "cell_type": "markdown",
      "source": [
        "### ***Congrats! Your model is successfully created and ready for deployment on a live server for a real user interaction !!!***"
      ],
      "metadata": {
        "id": "-Kee-DAl2viO"
      }
    },
    {
      "cell_type": "markdown",
      "source": [
        "# **Conclusion**"
      ],
      "metadata": {
        "id": "gCX9965dhzqZ"
      }
    },
    {
      "cell_type": "markdown",
      "source": [
        "Write the conclusion here."
      ],
      "metadata": {
        "id": "Fjb1IsQkh3yE"
      }
    },
    {
      "cell_type": "markdown",
      "source": [
        "### ***Hurrah! You have successfully completed your Machine Learning Capstone Project !!!***"
      ],
      "metadata": {
        "id": "gIfDvo9L0UH2"
      }
    }
  ]
}